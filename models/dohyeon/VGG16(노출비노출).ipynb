{
  "nbformat": 4,
  "nbformat_minor": 0,
  "metadata": {
    "colab": {
      "provenance": [],
      "gpuType": "T4"
    },
    "kernelspec": {
      "name": "python3",
      "display_name": "Python 3"
    },
    "language_info": {
      "name": "python"
    },
    "accelerator": "GPU"
  },
  "cells": [
    {
      "cell_type": "code",
      "execution_count": null,
      "metadata": {
        "colab": {
          "base_uri": "https://localhost:8080/"
        },
        "id": "ThU9sYxCL-3D",
        "outputId": "60cb6bb2-6175-43ae-abb7-ce3fefb16ee7"
      },
      "outputs": [
        {
          "output_type": "stream",
          "name": "stdout",
          "text": [
            "Looking in indexes: https://pypi.org/simple, https://us-python.pkg.dev/colab-wheels/public/simple/\n",
            "Requirement already satisfied: tensorflow in /usr/local/lib/python3.10/dist-packages (2.12.0)\n",
            "Requirement already satisfied: absl-py>=1.0.0 in /usr/local/lib/python3.10/dist-packages (from tensorflow) (1.4.0)\n",
            "Requirement already satisfied: astunparse>=1.6.0 in /usr/local/lib/python3.10/dist-packages (from tensorflow) (1.6.3)\n",
            "Requirement already satisfied: flatbuffers>=2.0 in /usr/local/lib/python3.10/dist-packages (from tensorflow) (23.3.3)\n",
            "Requirement already satisfied: gast<=0.4.0,>=0.2.1 in /usr/local/lib/python3.10/dist-packages (from tensorflow) (0.4.0)\n",
            "Requirement already satisfied: google-pasta>=0.1.1 in /usr/local/lib/python3.10/dist-packages (from tensorflow) (0.2.0)\n",
            "Requirement already satisfied: grpcio<2.0,>=1.24.3 in /usr/local/lib/python3.10/dist-packages (from tensorflow) (1.54.0)\n",
            "Requirement already satisfied: h5py>=2.9.0 in /usr/local/lib/python3.10/dist-packages (from tensorflow) (3.8.0)\n",
            "Requirement already satisfied: jax>=0.3.15 in /usr/local/lib/python3.10/dist-packages (from tensorflow) (0.4.10)\n",
            "Requirement already satisfied: keras<2.13,>=2.12.0 in /usr/local/lib/python3.10/dist-packages (from tensorflow) (2.12.0)\n",
            "Requirement already satisfied: libclang>=13.0.0 in /usr/local/lib/python3.10/dist-packages (from tensorflow) (16.0.0)\n",
            "Requirement already satisfied: numpy<1.24,>=1.22 in /usr/local/lib/python3.10/dist-packages (from tensorflow) (1.22.4)\n",
            "Requirement already satisfied: opt-einsum>=2.3.2 in /usr/local/lib/python3.10/dist-packages (from tensorflow) (3.3.0)\n",
            "Requirement already satisfied: packaging in /usr/local/lib/python3.10/dist-packages (from tensorflow) (23.1)\n",
            "Requirement already satisfied: protobuf!=4.21.0,!=4.21.1,!=4.21.2,!=4.21.3,!=4.21.4,!=4.21.5,<5.0.0dev,>=3.20.3 in /usr/local/lib/python3.10/dist-packages (from tensorflow) (3.20.3)\n",
            "Requirement already satisfied: setuptools in /usr/local/lib/python3.10/dist-packages (from tensorflow) (67.7.2)\n",
            "Requirement already satisfied: six>=1.12.0 in /usr/local/lib/python3.10/dist-packages (from tensorflow) (1.16.0)\n",
            "Requirement already satisfied: tensorboard<2.13,>=2.12 in /usr/local/lib/python3.10/dist-packages (from tensorflow) (2.12.2)\n",
            "Requirement already satisfied: tensorflow-estimator<2.13,>=2.12.0 in /usr/local/lib/python3.10/dist-packages (from tensorflow) (2.12.0)\n",
            "Requirement already satisfied: termcolor>=1.1.0 in /usr/local/lib/python3.10/dist-packages (from tensorflow) (2.3.0)\n",
            "Requirement already satisfied: typing-extensions>=3.6.6 in /usr/local/lib/python3.10/dist-packages (from tensorflow) (4.5.0)\n",
            "Requirement already satisfied: wrapt<1.15,>=1.11.0 in /usr/local/lib/python3.10/dist-packages (from tensorflow) (1.14.1)\n",
            "Requirement already satisfied: tensorflow-io-gcs-filesystem>=0.23.1 in /usr/local/lib/python3.10/dist-packages (from tensorflow) (0.32.0)\n",
            "Requirement already satisfied: wheel<1.0,>=0.23.0 in /usr/local/lib/python3.10/dist-packages (from astunparse>=1.6.0->tensorflow) (0.40.0)\n",
            "Requirement already satisfied: ml-dtypes>=0.1.0 in /usr/local/lib/python3.10/dist-packages (from jax>=0.3.15->tensorflow) (0.1.0)\n",
            "Requirement already satisfied: scipy>=1.7 in /usr/local/lib/python3.10/dist-packages (from jax>=0.3.15->tensorflow) (1.10.1)\n",
            "Requirement already satisfied: google-auth<3,>=1.6.3 in /usr/local/lib/python3.10/dist-packages (from tensorboard<2.13,>=2.12->tensorflow) (2.17.3)\n",
            "Requirement already satisfied: google-auth-oauthlib<1.1,>=0.5 in /usr/local/lib/python3.10/dist-packages (from tensorboard<2.13,>=2.12->tensorflow) (1.0.0)\n",
            "Requirement already satisfied: markdown>=2.6.8 in /usr/local/lib/python3.10/dist-packages (from tensorboard<2.13,>=2.12->tensorflow) (3.4.3)\n",
            "Requirement already satisfied: requests<3,>=2.21.0 in /usr/local/lib/python3.10/dist-packages (from tensorboard<2.13,>=2.12->tensorflow) (2.27.1)\n",
            "Requirement already satisfied: tensorboard-data-server<0.8.0,>=0.7.0 in /usr/local/lib/python3.10/dist-packages (from tensorboard<2.13,>=2.12->tensorflow) (0.7.0)\n",
            "Requirement already satisfied: tensorboard-plugin-wit>=1.6.0 in /usr/local/lib/python3.10/dist-packages (from tensorboard<2.13,>=2.12->tensorflow) (1.8.1)\n",
            "Requirement already satisfied: werkzeug>=1.0.1 in /usr/local/lib/python3.10/dist-packages (from tensorboard<2.13,>=2.12->tensorflow) (2.3.0)\n",
            "Requirement already satisfied: cachetools<6.0,>=2.0.0 in /usr/local/lib/python3.10/dist-packages (from google-auth<3,>=1.6.3->tensorboard<2.13,>=2.12->tensorflow) (5.3.0)\n",
            "Requirement already satisfied: pyasn1-modules>=0.2.1 in /usr/local/lib/python3.10/dist-packages (from google-auth<3,>=1.6.3->tensorboard<2.13,>=2.12->tensorflow) (0.3.0)\n",
            "Requirement already satisfied: rsa<5,>=3.1.4 in /usr/local/lib/python3.10/dist-packages (from google-auth<3,>=1.6.3->tensorboard<2.13,>=2.12->tensorflow) (4.9)\n",
            "Requirement already satisfied: requests-oauthlib>=0.7.0 in /usr/local/lib/python3.10/dist-packages (from google-auth-oauthlib<1.1,>=0.5->tensorboard<2.13,>=2.12->tensorflow) (1.3.1)\n",
            "Requirement already satisfied: urllib3<1.27,>=1.21.1 in /usr/local/lib/python3.10/dist-packages (from requests<3,>=2.21.0->tensorboard<2.13,>=2.12->tensorflow) (1.26.15)\n",
            "Requirement already satisfied: certifi>=2017.4.17 in /usr/local/lib/python3.10/dist-packages (from requests<3,>=2.21.0->tensorboard<2.13,>=2.12->tensorflow) (2022.12.7)\n",
            "Requirement already satisfied: charset-normalizer~=2.0.0 in /usr/local/lib/python3.10/dist-packages (from requests<3,>=2.21.0->tensorboard<2.13,>=2.12->tensorflow) (2.0.12)\n",
            "Requirement already satisfied: idna<4,>=2.5 in /usr/local/lib/python3.10/dist-packages (from requests<3,>=2.21.0->tensorboard<2.13,>=2.12->tensorflow) (3.4)\n",
            "Requirement already satisfied: MarkupSafe>=2.1.1 in /usr/local/lib/python3.10/dist-packages (from werkzeug>=1.0.1->tensorboard<2.13,>=2.12->tensorflow) (2.1.2)\n",
            "Requirement already satisfied: pyasn1<0.6.0,>=0.4.6 in /usr/local/lib/python3.10/dist-packages (from pyasn1-modules>=0.2.1->google-auth<3,>=1.6.3->tensorboard<2.13,>=2.12->tensorflow) (0.5.0)\n",
            "Requirement already satisfied: oauthlib>=3.0.0 in /usr/local/lib/python3.10/dist-packages (from requests-oauthlib>=0.7.0->google-auth-oauthlib<1.1,>=0.5->tensorboard<2.13,>=2.12->tensorflow) (3.2.2)\n"
          ]
        }
      ],
      "source": [
        "!pip install tensorflow"
      ]
    },
    {
      "cell_type": "code",
      "source": [
        "from google.colab import drive\n",
        "drive.mount('/content/drive')"
      ],
      "metadata": {
        "colab": {
          "base_uri": "https://localhost:8080/"
        },
        "id": "BSvfMjZaYs-8",
        "outputId": "074c786b-dd9e-4061-81d1-fa6e13ebb810"
      },
      "execution_count": null,
      "outputs": [
        {
          "output_type": "stream",
          "name": "stdout",
          "text": [
            "Mounted at /content/drive\n"
          ]
        }
      ]
    },
    {
      "cell_type": "code",
      "source": [
        "!mkdir test_data"
      ],
      "metadata": {
        "id": "8xQXN9wNpjAd"
      },
      "execution_count": null,
      "outputs": []
    },
    {
      "cell_type": "code",
      "source": [
        "import os"
      ],
      "metadata": {
        "id": "I64V40msqUX_"
      },
      "execution_count": null,
      "outputs": []
    },
    {
      "cell_type": "code",
      "source": [
        "one_path = '/content/drive/MyDrive/노출비노출(수정dataset)/노출 이미지'\n",
        "two_path = '/content/drive/MyDrive/노출비노출(수정dataset)/비노출 이미지'\n",
        "\n",
        "print(len(os.listdir(one_path)))\n",
        "print(len(os.listdir(two_path)))"
      ],
      "metadata": {
        "colab": {
          "base_uri": "https://localhost:8080/"
        },
        "id": "Ex0Qf0WDpqoh",
        "outputId": "61d4a340-f259-4fe8-f79a-3d286fe5dd68"
      },
      "execution_count": null,
      "outputs": [
        {
          "output_type": "stream",
          "name": "stdout",
          "text": [
            "800\n",
            "500\n"
          ]
        }
      ]
    },
    {
      "cell_type": "code",
      "source": [
        "#for file_path in os.listdir(one_path)[:300]:\n",
        "  #os.remove(os.path.join(one_path, file_path)) #노출\n",
        "#for files_path in os.listdir(two_path)[:152]: #비노출\n",
        " # os.remove(os.path.join(two_path, files_path))\n"
      ],
      "metadata": {
        "id": "9NHkhOlFqXxG"
      },
      "execution_count": null,
      "outputs": []
    },
    {
      "cell_type": "code",
      "source": [
        "\n",
        "print(len(os.listdir(one_path)))\n",
        "print(len(os.listdir(two_path)))"
      ],
      "metadata": {
        "colab": {
          "base_uri": "https://localhost:8080/"
        },
        "id": "miQ9sGzjqtNL",
        "outputId": "781085d8-b30d-4b3b-d04e-d274939094c2"
      },
      "execution_count": null,
      "outputs": [
        {
          "output_type": "stream",
          "name": "stdout",
          "text": [
            "500\n",
            "500\n"
          ]
        }
      ]
    },
    {
      "cell_type": "code",
      "source": [
        "!pip install split-folders"
      ],
      "metadata": {
        "colab": {
          "base_uri": "https://localhost:8080/"
        },
        "id": "gmF-Z9z8zkF9",
        "outputId": "c012ba28-fc97-4b4c-f6e8-8550e7dbdfdb"
      },
      "execution_count": null,
      "outputs": [
        {
          "output_type": "stream",
          "name": "stdout",
          "text": [
            "Looking in indexes: https://pypi.org/simple, https://us-python.pkg.dev/colab-wheels/public/simple/\n",
            "Collecting split-folders\n",
            "  Downloading split_folders-0.5.1-py3-none-any.whl (8.4 kB)\n",
            "Installing collected packages: split-folders\n",
            "Successfully installed split-folders-0.5.1\n"
          ]
        }
      ]
    },
    {
      "cell_type": "code",
      "source": [
        "import splitfolders\n",
        "\n",
        "splitfolders.ratio('/content/drive/MyDrive/노출비노출(수정dataset)', output='test_data', seed=43, ratio=(.7, .3))"
      ],
      "metadata": {
        "colab": {
          "base_uri": "https://localhost:8080/"
        },
        "id": "CDXxtRjiq18H",
        "outputId": "a22e9ce3-7f34-4c7f-9500-5c496ee1d6de"
      },
      "execution_count": null,
      "outputs": [
        {
          "output_type": "stream",
          "name": "stderr",
          "text": [
            "Copying files: 1000 files [00:33, 30.08 files/s]\n"
          ]
        }
      ]
    },
    {
      "cell_type": "code",
      "source": [
        "print(len(os.listdir('/content/test_data/train/노출 이미지')))\n",
        "print(len(os.listdir('/content/test_data/train/비노출 이미지')))\n",
        "\n",
        "print(len(os.listdir('/content/test_data/val/노출 이미지')))\n",
        "print(len(os.listdir('/content/test_data/val/비노출 이미지')))"
      ],
      "metadata": {
        "colab": {
          "base_uri": "https://localhost:8080/"
        },
        "id": "PpQ01cLGrQCy",
        "outputId": "e8bffc8e-3064-4e94-f531-e99139ba8f00"
      },
      "execution_count": null,
      "outputs": [
        {
          "output_type": "stream",
          "name": "stdout",
          "text": [
            "350\n",
            "350\n",
            "150\n",
            "150\n"
          ]
        }
      ]
    },
    {
      "cell_type": "code",
      "source": [
        "import pandas as pd \n",
        "import numpy as np\n",
        "import tensorflow as tf\n",
        "from keras.preprocessing.image import * \n",
        "from keras.utils import to_categorical\n",
        "from sklearn.model_selection import train_test_split\n",
        "import matplotlib.pyplot as plt\n",
        "import random\n",
        "import os "
      ],
      "metadata": {
        "id": "u8mrM3OiMEBO"
      },
      "execution_count": null,
      "outputs": []
    },
    {
      "cell_type": "code",
      "source": [
        "from keras.applications.vgg16 import VGG16\n",
        "from keras.preprocessing.image import ImageDataGenerator\n",
        "from keras.layers import Conv2D, MaxPooling2D, Flatten, Dense, Dropout, Input\n",
        "from keras.models import Model\n",
        "from tensorflow.keras import optimizers, regularizers, callbacks"
      ],
      "metadata": {
        "id": "mV6oTH1uSii1"
      },
      "execution_count": null,
      "outputs": []
    },
    {
      "cell_type": "code",
      "source": [
        "input_tensor = Input(shape=(180,180,3)) #58 나온 원래 코드 150, 150, 3 #224가 디폴트값임.\n",
        "model = VGG16(weights='imagenet', include_top=False, input_tensor = input_tensor)"
      ],
      "metadata": {
        "id": "ylAInv1JaAWe"
      },
      "execution_count": null,
      "outputs": []
    },
    {
      "cell_type": "code",
      "source": [
        "# 모델 Layer 데이터화\n",
        "layer_dict = dict([(layer.name, layer) for layer in model.layers])\n",
        "\n",
        "# Layer 추가\n",
        "x = layer_dict['block5_pool'].output\n",
        "# Cov2D Layer +\n",
        "x = Conv2D(filters = 64, kernel_size=(3, 3), activation='relu', padding='SAME')(x)\n",
        "# MaxPooling2D Layer +\n",
        "x = MaxPooling2D(pool_size=(2, 2), padding='SAME')(x)\n",
        "# Flatten Layer +\n",
        "x = Flatten()(x)\n",
        "# FC Layer +\n",
        "x = Dense(2048, activation='relu')(x)\n",
        "x = Dropout(0.4)(x)\n",
        "x = Dense(1024, activation='relu')(x)\n",
        "x = Dropout(0.4)(x)\n",
        "x = Dense(2, activation='sigmoid')(x)\n",
        "\n",
        "# new model 정의\n",
        "new_model = Model(inputs = model.input, outputs = x)"
      ],
      "metadata": {
        "id": "Mng5JyIKaOn0"
      },
      "execution_count": null,
      "outputs": []
    },
    {
      "cell_type": "code",
      "source": [
        "# CNN Pre-trained 가중치를 그대로 사용할때\n",
        "for layer in new_model.layers[:19] :\n",
        "    layer.trainable = False\n",
        "\n",
        "new_model.summary()\n",
        "\n",
        "# 컴파일 옵션\n",
        "new_model.compile(loss='sparse_categorical_crossentropy',\n",
        "                     optimizer= tf.keras.optimizers.Adam(learning_rate=0.001),\n",
        "                     metrics=['accuracy'])"
      ],
      "metadata": {
        "colab": {
          "base_uri": "https://localhost:8080/"
        },
        "id": "MOGHVI2GaT6U",
        "outputId": "4afc755d-7cde-41c4-bfb5-fbdd1224e4e4"
      },
      "execution_count": null,
      "outputs": [
        {
          "output_type": "stream",
          "name": "stdout",
          "text": [
            "Model: \"model_5\"\n",
            "_________________________________________________________________\n",
            " Layer (type)                Output Shape              Param #   \n",
            "=================================================================\n",
            " input_4 (InputLayer)        [(None, 180, 180, 3)]     0         \n",
            "                                                                 \n",
            " block1_conv1 (Conv2D)       (None, 180, 180, 64)      1792      \n",
            "                                                                 \n",
            " block1_conv2 (Conv2D)       (None, 180, 180, 64)      36928     \n",
            "                                                                 \n",
            " block1_pool (MaxPooling2D)  (None, 90, 90, 64)        0         \n",
            "                                                                 \n",
            " block2_conv1 (Conv2D)       (None, 90, 90, 128)       73856     \n",
            "                                                                 \n",
            " block2_conv2 (Conv2D)       (None, 90, 90, 128)       147584    \n",
            "                                                                 \n",
            " block2_pool (MaxPooling2D)  (None, 45, 45, 128)       0         \n",
            "                                                                 \n",
            " block3_conv1 (Conv2D)       (None, 45, 45, 256)       295168    \n",
            "                                                                 \n",
            " block3_conv2 (Conv2D)       (None, 45, 45, 256)       590080    \n",
            "                                                                 \n",
            " block3_conv3 (Conv2D)       (None, 45, 45, 256)       590080    \n",
            "                                                                 \n",
            " block3_pool (MaxPooling2D)  (None, 22, 22, 256)       0         \n",
            "                                                                 \n",
            " block4_conv1 (Conv2D)       (None, 22, 22, 512)       1180160   \n",
            "                                                                 \n",
            " block4_conv2 (Conv2D)       (None, 22, 22, 512)       2359808   \n",
            "                                                                 \n",
            " block4_conv3 (Conv2D)       (None, 22, 22, 512)       2359808   \n",
            "                                                                 \n",
            " block4_pool (MaxPooling2D)  (None, 11, 11, 512)       0         \n",
            "                                                                 \n",
            " block5_conv1 (Conv2D)       (None, 11, 11, 512)       2359808   \n",
            "                                                                 \n",
            " block5_conv2 (Conv2D)       (None, 11, 11, 512)       2359808   \n",
            "                                                                 \n",
            " block5_conv3 (Conv2D)       (None, 11, 11, 512)       2359808   \n",
            "                                                                 \n",
            " block5_pool (MaxPooling2D)  (None, 5, 5, 512)         0         \n",
            "                                                                 \n",
            " conv2d_5 (Conv2D)           (None, 5, 5, 64)          294976    \n",
            "                                                                 \n",
            " max_pooling2d_5 (MaxPooling  (None, 3, 3, 64)         0         \n",
            " 2D)                                                             \n",
            "                                                                 \n",
            " flatten_5 (Flatten)         (None, 576)               0         \n",
            "                                                                 \n",
            " dense_15 (Dense)            (None, 2048)              1181696   \n",
            "                                                                 \n",
            " dropout_10 (Dropout)        (None, 2048)              0         \n",
            "                                                                 \n",
            " dense_16 (Dense)            (None, 1024)              2098176   \n",
            "                                                                 \n",
            " dropout_11 (Dropout)        (None, 1024)              0         \n",
            "                                                                 \n",
            " dense_17 (Dense)            (None, 2)                 2050      \n",
            "                                                                 \n",
            "=================================================================\n",
            "Total params: 18,291,586\n",
            "Trainable params: 3,576,898\n",
            "Non-trainable params: 14,714,688\n",
            "_________________________________________________________________\n"
          ]
        }
      ]
    },
    {
      "cell_type": "code",
      "source": [
        "# 테스트 데이터 (노출/비노출)\n",
        "train_dir ='/content/test_data/train'\n",
        "test_dir = '/content/test_data/val'\n",
        "\n",
        "# 폴더에 따라 자동 분류\n",
        "train_image_generator = ImageDataGenerator(rescale=1./255,\n",
        "                                           rotation_range=15,\n",
        "                                           zoom_range=0.2,\n",
        "                                           horizontal_flip=True,\n",
        "                                           )\n",
        "test_image_generator = ImageDataGenerator(rescale=1./255)\n",
        "\n",
        "# 데이터 구조 생성\n",
        "train_data_gen = train_image_generator.flow_from_directory(batch_size=100,\n",
        "                                                           directory=train_dir,\n",
        "                                                           shuffle=True,\n",
        "                                                           target_size=(180, 180),\n",
        "                                                           class_mode='binary')\n",
        "\n",
        "test_data_gen = test_image_generator.flow_from_directory(batch_size=100,\n",
        "                                                         directory=test_dir,\n",
        "                                                         target_size=(180, 180),\n",
        "                                                         class_mode='binary')"
      ],
      "metadata": {
        "colab": {
          "base_uri": "https://localhost:8080/"
        },
        "id": "gIV4ug5dsSTn",
        "outputId": "d7193b51-3075-4e70-f374-522d3fd57d1b"
      },
      "execution_count": null,
      "outputs": [
        {
          "output_type": "stream",
          "name": "stdout",
          "text": [
            "Found 700 images belonging to 2 classes.\n",
            "Found 300 images belonging to 2 classes.\n"
          ]
        }
      ]
    },
    {
      "cell_type": "code",
      "source": [
        "from PIL import Image, ImageFile\n",
        "ImageFile.LOAD_TRUNCATED_IMAGES = True"
      ],
      "metadata": {
        "id": "bbVjuMZzclq9"
      },
      "execution_count": null,
      "outputs": []
    },
    {
      "cell_type": "code",
      "source": [
        "!pip install keras --upgrade"
      ],
      "metadata": {
        "colab": {
          "base_uri": "https://localhost:8080/"
        },
        "id": "GCU5RtuLcrtY",
        "outputId": "41bc1b5d-be35-458b-a1a3-778f7fe794ed"
      },
      "execution_count": null,
      "outputs": [
        {
          "output_type": "stream",
          "name": "stdout",
          "text": [
            "Looking in indexes: https://pypi.org/simple, https://us-python.pkg.dev/colab-wheels/public/simple/\n",
            "Requirement already satisfied: keras in /usr/local/lib/python3.10/dist-packages (2.12.0)\n"
          ]
        }
      ]
    },
    {
      "cell_type": "code",
      "source": [
        "history = new_model.fit(train_data_gen, epochs=50,\n",
        "                        validation_data=test_data_gen)"
      ],
      "metadata": {
        "colab": {
          "base_uri": "https://localhost:8080/"
        },
        "id": "1A7TCH25dcoA",
        "outputId": "8de27297-6c78-40ce-f4aa-d2b9d687d06c"
      },
      "execution_count": null,
      "outputs": [
        {
          "output_type": "stream",
          "name": "stdout",
          "text": [
            "Epoch 1/50\n",
            "7/7 [==============================] - 25s 3s/step - loss: 1.1940 - accuracy: 0.5000 - val_loss: 0.6927 - val_accuracy: 0.5467\n",
            "Epoch 2/50\n",
            "7/7 [==============================] - 21s 3s/step - loss: 0.6917 - accuracy: 0.5200 - val_loss: 0.6927 - val_accuracy: 0.5100\n",
            "Epoch 3/50\n",
            "7/7 [==============================] - 21s 3s/step - loss: 0.6837 - accuracy: 0.5771 - val_loss: 0.6562 - val_accuracy: 0.6567\n",
            "Epoch 4/50\n",
            "7/7 [==============================] - 20s 3s/step - loss: 0.6087 - accuracy: 0.7029 - val_loss: 0.6479 - val_accuracy: 0.6733\n",
            "Epoch 5/50\n",
            "7/7 [==============================] - 21s 3s/step - loss: 0.4993 - accuracy: 0.7571 - val_loss: 0.5516 - val_accuracy: 0.7233\n",
            "Epoch 6/50\n",
            "7/7 [==============================] - 21s 3s/step - loss: 0.4206 - accuracy: 0.8057 - val_loss: 0.4709 - val_accuracy: 0.7833\n",
            "Epoch 7/50\n",
            "7/7 [==============================] - 21s 3s/step - loss: 0.3457 - accuracy: 0.8400 - val_loss: 0.4562 - val_accuracy: 0.8033\n",
            "Epoch 8/50\n",
            "7/7 [==============================] - 21s 3s/step - loss: 0.3071 - accuracy: 0.8629 - val_loss: 0.3923 - val_accuracy: 0.8200\n",
            "Epoch 9/50\n",
            "7/7 [==============================] - 21s 3s/step - loss: 0.2481 - accuracy: 0.8986 - val_loss: 0.3946 - val_accuracy: 0.8400\n",
            "Epoch 10/50\n",
            "7/7 [==============================] - 20s 3s/step - loss: 0.2195 - accuracy: 0.9071 - val_loss: 0.5356 - val_accuracy: 0.8033\n",
            "Epoch 11/50\n",
            "7/7 [==============================] - 22s 3s/step - loss: 0.2302 - accuracy: 0.9043 - val_loss: 0.4344 - val_accuracy: 0.8267\n",
            "Epoch 12/50\n",
            "7/7 [==============================] - 20s 3s/step - loss: 0.1954 - accuracy: 0.9243 - val_loss: 0.4361 - val_accuracy: 0.8267\n",
            "Epoch 13/50\n",
            "7/7 [==============================] - 21s 3s/step - loss: 0.1891 - accuracy: 0.9300 - val_loss: 0.4987 - val_accuracy: 0.8233\n",
            "Epoch 14/50\n",
            "7/7 [==============================] - 20s 3s/step - loss: 0.1571 - accuracy: 0.9471 - val_loss: 0.4423 - val_accuracy: 0.8367\n",
            "Epoch 15/50\n",
            "7/7 [==============================] - 22s 3s/step - loss: 0.1179 - accuracy: 0.9571 - val_loss: 0.4720 - val_accuracy: 0.8367\n",
            "Epoch 16/50\n",
            "7/7 [==============================] - 21s 3s/step - loss: 0.1169 - accuracy: 0.9557 - val_loss: 0.5211 - val_accuracy: 0.8267\n",
            "Epoch 17/50\n",
            "7/7 [==============================] - 22s 3s/step - loss: 0.1587 - accuracy: 0.9386 - val_loss: 0.6970 - val_accuracy: 0.8067\n",
            "Epoch 18/50\n",
            "7/7 [==============================] - 20s 3s/step - loss: 0.1112 - accuracy: 0.9600 - val_loss: 0.4903 - val_accuracy: 0.8367\n",
            "Epoch 19/50\n",
            "7/7 [==============================] - 21s 3s/step - loss: 0.0818 - accuracy: 0.9686 - val_loss: 0.5011 - val_accuracy: 0.8333\n",
            "Epoch 20/50\n",
            "7/7 [==============================] - 21s 3s/step - loss: 0.0683 - accuracy: 0.9729 - val_loss: 0.5905 - val_accuracy: 0.8333\n",
            "Epoch 21/50\n",
            "7/7 [==============================] - 22s 3s/step - loss: 0.0560 - accuracy: 0.9843 - val_loss: 0.6911 - val_accuracy: 0.8333\n",
            "Epoch 22/50\n",
            "7/7 [==============================] - 21s 3s/step - loss: 0.0453 - accuracy: 0.9800 - val_loss: 0.6886 - val_accuracy: 0.8400\n",
            "Epoch 23/50\n",
            "7/7 [==============================] - 21s 3s/step - loss: 0.1454 - accuracy: 0.9429 - val_loss: 0.7947 - val_accuracy: 0.8133\n",
            "Epoch 24/50\n",
            "7/7 [==============================] - 20s 3s/step - loss: 0.1161 - accuracy: 0.9514 - val_loss: 0.5108 - val_accuracy: 0.8367\n",
            "Epoch 25/50\n",
            "7/7 [==============================] - 22s 3s/step - loss: 0.0870 - accuracy: 0.9671 - val_loss: 0.6074 - val_accuracy: 0.8400\n",
            "Epoch 26/50\n",
            "7/7 [==============================] - 20s 3s/step - loss: 0.0960 - accuracy: 0.9671 - val_loss: 0.7069 - val_accuracy: 0.8100\n",
            "Epoch 27/50\n",
            "7/7 [==============================] - 21s 3s/step - loss: 0.0927 - accuracy: 0.9600 - val_loss: 0.5182 - val_accuracy: 0.8400\n",
            "Epoch 28/50\n",
            "7/7 [==============================] - 22s 3s/step - loss: 0.0469 - accuracy: 0.9829 - val_loss: 0.5678 - val_accuracy: 0.8333\n",
            "Epoch 29/50\n",
            "7/7 [==============================] - 21s 3s/step - loss: 0.0509 - accuracy: 0.9786 - val_loss: 0.6644 - val_accuracy: 0.8300\n",
            "Epoch 30/50\n",
            "7/7 [==============================] - 21s 3s/step - loss: 0.0324 - accuracy: 0.9829 - val_loss: 0.9194 - val_accuracy: 0.8233\n",
            "Epoch 31/50\n",
            "7/7 [==============================] - 26s 4s/step - loss: 0.0415 - accuracy: 0.9886 - val_loss: 0.7971 - val_accuracy: 0.8367\n",
            "Epoch 32/50\n",
            "7/7 [==============================] - 21s 3s/step - loss: 0.0518 - accuracy: 0.9843 - val_loss: 0.8396 - val_accuracy: 0.8233\n",
            "Epoch 33/50\n",
            "7/7 [==============================] - 21s 3s/step - loss: 0.0463 - accuracy: 0.9857 - val_loss: 0.8320 - val_accuracy: 0.8267\n",
            "Epoch 34/50\n",
            "7/7 [==============================] - 20s 3s/step - loss: 0.0700 - accuracy: 0.9843 - val_loss: 0.8375 - val_accuracy: 0.8100\n",
            "Epoch 35/50\n",
            "7/7 [==============================] - 21s 3s/step - loss: 0.0345 - accuracy: 0.9871 - val_loss: 0.8292 - val_accuracy: 0.8167\n",
            "Epoch 36/50\n",
            "7/7 [==============================] - 20s 3s/step - loss: 0.0497 - accuracy: 0.9771 - val_loss: 0.8849 - val_accuracy: 0.8067\n",
            "Epoch 37/50\n",
            "7/7 [==============================] - 21s 3s/step - loss: 0.0633 - accuracy: 0.9829 - val_loss: 0.9330 - val_accuracy: 0.8000\n",
            "Epoch 38/50\n",
            "7/7 [==============================] - 21s 3s/step - loss: 0.0683 - accuracy: 0.9700 - val_loss: 0.8047 - val_accuracy: 0.8100\n",
            "Epoch 39/50\n",
            "7/7 [==============================] - 22s 3s/step - loss: 0.0485 - accuracy: 0.9814 - val_loss: 0.7105 - val_accuracy: 0.8300\n",
            "Epoch 40/50\n",
            "7/7 [==============================] - 20s 3s/step - loss: 0.0401 - accuracy: 0.9914 - val_loss: 0.7515 - val_accuracy: 0.8233\n",
            "Epoch 41/50\n",
            "7/7 [==============================] - 22s 3s/step - loss: 0.0387 - accuracy: 0.9886 - val_loss: 0.7443 - val_accuracy: 0.8100\n",
            "Epoch 42/50\n",
            "7/7 [==============================] - 22s 3s/step - loss: 0.0380 - accuracy: 0.9829 - val_loss: 0.7368 - val_accuracy: 0.8233\n",
            "Epoch 43/50\n",
            "7/7 [==============================] - 21s 3s/step - loss: 0.0412 - accuracy: 0.9857 - val_loss: 0.7706 - val_accuracy: 0.8333\n",
            "Epoch 44/50\n",
            "7/7 [==============================] - 22s 3s/step - loss: 0.0244 - accuracy: 0.9929 - val_loss: 0.7307 - val_accuracy: 0.8300\n",
            "Epoch 45/50\n",
            "7/7 [==============================] - 21s 3s/step - loss: 0.0480 - accuracy: 0.9857 - val_loss: 0.7972 - val_accuracy: 0.8200\n",
            "Epoch 46/50\n",
            "7/7 [==============================] - 22s 3s/step - loss: 0.0385 - accuracy: 0.9843 - val_loss: 0.8144 - val_accuracy: 0.8267\n",
            "Epoch 47/50\n",
            "7/7 [==============================] - 20s 3s/step - loss: 0.0395 - accuracy: 0.9857 - val_loss: 1.0578 - val_accuracy: 0.8000\n",
            "Epoch 48/50\n",
            "7/7 [==============================] - 21s 3s/step - loss: 0.0462 - accuracy: 0.9857 - val_loss: 0.8812 - val_accuracy: 0.8167\n",
            "Epoch 49/50\n",
            "7/7 [==============================] - 21s 3s/step - loss: 0.0789 - accuracy: 0.9757 - val_loss: 0.8916 - val_accuracy: 0.8067\n",
            "Epoch 50/50\n",
            "7/7 [==============================] - 22s 3s/step - loss: 0.0625 - accuracy: 0.9686 - val_loss: 0.6792 - val_accuracy: 0.8133\n"
          ]
        }
      ]
    },
    {
      "cell_type": "code",
      "source": [
        "new_model.save(\"newVGG16(노출비노출).h5\") "
      ],
      "metadata": {
        "id": "WQcGmXBPzBsv"
      },
      "execution_count": null,
      "outputs": []
    },
    {
      "cell_type": "code",
      "source": [
        "# 최종 결과 리포트\n",
        "acc = history.history['accuracy']\n",
        "val_acc = history.history['val_accuracy']\n",
        "loss = history.history['loss']\n",
        "val_loss = history.history['val_loss']\n",
        "epochs = range(len(acc))\n"
      ],
      "metadata": {
        "id": "juAAr0Z7zLPS"
      },
      "execution_count": null,
      "outputs": []
    },
    {
      "cell_type": "code",
      "source": [
        "from matplotlib import pyplot as plt\n",
        "\n",
        "plt.plot(epochs, acc, 'r', label='Training acc')\n",
        "plt.plot(epochs, val_acc, 'b', label='testing acc')\n",
        "plt.title('Training and testing accuracy')\n",
        "plt.legend()\n",
        "plt.figure()\n",
        "\n",
        "plt.plot(epochs, loss, 'r', label='Training loss')\n",
        "plt.plot(epochs, val_loss, 'b', label='testing loss')\n",
        "plt.title('Training and testing loss')\n",
        "plt.legend()\n",
        "\n",
        "plt.show()"
      ],
      "metadata": {
        "colab": {
          "base_uri": "https://localhost:8080/",
          "height": 887
        },
        "id": "lSK2VJeszNhP",
        "outputId": "69b638dc-b4ed-4725-b26e-eec7f1febf51"
      },
      "execution_count": null,
      "outputs": [
        {
          "output_type": "display_data",
          "data": {
            "text/plain": [
              "<Figure size 640x480 with 1 Axes>"
            ],
            "image/png": "[encoded data removed]"
          },
          "metadata": {}
        },
        {
          "output_type": "display_data",
          "data": {
            "text/plain": [
              "<Figure size 640x480 with 1 Axes>"
            ],
            "image/png": "[encoded data removed]"
          },
          "metadata": {}
        }
      ]
    }
  ]
}