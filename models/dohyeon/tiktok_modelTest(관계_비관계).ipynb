{
  "nbformat": 4,
  "nbformat_minor": 0,
  "metadata": {
    "colab": {
      "provenance": [],
      "gpuType": "T4"
    },
    "kernelspec": {
      "name": "python3",
      "display_name": "Python 3"
    },
    "language_info": {
      "name": "python"
    },
    "accelerator": "GPU"
  },
  "cells": [
    {
      "cell_type": "code",
      "source": [
        "from google.colab import drive\n",
        "drive.mount('/content/drive')"
      ],
      "metadata": {
        "id": "eQx0aU7fk-au",
        "colab": {
          "base_uri": "https://localhost:8080/"
        },
        "outputId": "1e48a9f5-2a66-450f-b0ec-81af6c460556"
      },
      "execution_count": null,
      "outputs": [
        {
          "output_type": "stream",
          "name": "stdout",
          "text": [
            "Mounted at /content/drive\n"
          ]
        }
      ]
    },
    {
      "cell_type": "code",
      "source": [
        "import pandas as pd \n",
        "import numpy as np\n",
        "import tensorflow as tf\n",
        "from keras.preprocessing.image import * \n",
        "from keras.utils import to_categorical\n",
        "from sklearn.model_selection import train_test_split\n",
        "import matplotlib.pyplot as plt\n",
        "import random\n",
        "import os "
      ],
      "metadata": {
        "id": "ussrIC93lASG"
      },
      "execution_count": null,
      "outputs": []
    },
    {
      "cell_type": "code",
      "source": [
        "from keras.applications.vgg16 import VGG16\n",
        "from keras.preprocessing.image import ImageDataGenerator\n",
        "from keras.layers import Conv2D, MaxPooling2D, Flatten, Dense, Dropout, Input\n",
        "from keras.models import Model\n",
        "from tensorflow.keras import optimizers, regularizers, callbacks"
      ],
      "metadata": {
        "id": "nSmBwlDYlmIx"
      },
      "execution_count": null,
      "outputs": []
    },
    {
      "cell_type": "code",
      "source": [
        "from tensorflow.keras.models import load_model\n",
        "model = load_model(\"/content/drive/MyDrive/newVGG16(관계비관계).h5\")"
      ],
      "metadata": {
        "id": "eiyvpMZolzGQ"
      },
      "execution_count": null,
      "outputs": []
    },
    {
      "cell_type": "code",
      "source": [
        "model.compile(loss='sparse_categorical_crossentropy',\n",
        "                     optimizer= tf.keras.optimizers.Adam(learning_rate=0.001),\n",
        "                     metrics=['accuracy'])\n",
        "model.summary()"
      ],
      "metadata": {
        "colab": {
          "base_uri": "https://localhost:8080/"
        },
        "id": "y1OhvE3Fm1iY",
        "outputId": "9f508323-1a66-4b77-d2b4-a64592ea3faa"
      },
      "execution_count": null,
      "outputs": [
        {
          "output_type": "stream",
          "name": "stdout",
          "text": [
            "Model: \"model\"\n",
            "_________________________________________________________________\n",
            " Layer (type)                Output Shape              Param #   \n",
            "=================================================================\n",
            " input_1 (InputLayer)        [(None, 180, 180, 3)]     0         \n",
            "                                                                 \n",
            " block1_conv1 (Conv2D)       (None, 180, 180, 64)      1792      \n",
            "                                                                 \n",
            " block1_conv2 (Conv2D)       (None, 180, 180, 64)      36928     \n",
            "                                                                 \n",
            " block1_pool (MaxPooling2D)  (None, 90, 90, 64)        0         \n",
            "                                                                 \n",
            " block2_conv1 (Conv2D)       (None, 90, 90, 128)       73856     \n",
            "                                                                 \n",
            " block2_conv2 (Conv2D)       (None, 90, 90, 128)       147584    \n",
            "                                                                 \n",
            " block2_pool (MaxPooling2D)  (None, 45, 45, 128)       0         \n",
            "                                                                 \n",
            " block3_conv1 (Conv2D)       (None, 45, 45, 256)       295168    \n",
            "                                                                 \n",
            " block3_conv2 (Conv2D)       (None, 45, 45, 256)       590080    \n",
            "                                                                 \n",
            " block3_conv3 (Conv2D)       (None, 45, 45, 256)       590080    \n",
            "                                                                 \n",
            " block3_pool (MaxPooling2D)  (None, 22, 22, 256)       0         \n",
            "                                                                 \n",
            " block4_conv1 (Conv2D)       (None, 22, 22, 512)       1180160   \n",
            "                                                                 \n",
            " block4_conv2 (Conv2D)       (None, 22, 22, 512)       2359808   \n",
            "                                                                 \n",
            " block4_conv3 (Conv2D)       (None, 22, 22, 512)       2359808   \n",
            "                                                                 \n",
            " block4_pool (MaxPooling2D)  (None, 11, 11, 512)       0         \n",
            "                                                                 \n",
            " block5_conv1 (Conv2D)       (None, 11, 11, 512)       2359808   \n",
            "                                                                 \n",
            " block5_conv2 (Conv2D)       (None, 11, 11, 512)       2359808   \n",
            "                                                                 \n",
            " block5_conv3 (Conv2D)       (None, 11, 11, 512)       2359808   \n",
            "                                                                 \n",
            " block5_pool (MaxPooling2D)  (None, 5, 5, 512)         0         \n",
            "                                                                 \n",
            " conv2d (Conv2D)             (None, 5, 5, 64)          294976    \n",
            "                                                                 \n",
            " max_pooling2d (MaxPooling2D  (None, 3, 3, 64)         0         \n",
            " )                                                               \n",
            "                                                                 \n",
            " flatten (Flatten)           (None, 576)               0         \n",
            "                                                                 \n",
            " dense (Dense)               (None, 2048)              1181696   \n",
            "                                                                 \n",
            " dropout (Dropout)           (None, 2048)              0         \n",
            "                                                                 \n",
            " dense_1 (Dense)             (None, 1024)              2098176   \n",
            "                                                                 \n",
            " dropout_1 (Dropout)         (None, 1024)              0         \n",
            "                                                                 \n",
            " dense_2 (Dense)             (None, 2)                 2050      \n",
            "                                                                 \n",
            "=================================================================\n",
            "Total params: 18,291,586\n",
            "Trainable params: 3,576,898\n",
            "Non-trainable params: 14,714,688\n",
            "_________________________________________________________________\n"
          ]
        }
      ]
    },
    {
      "cell_type": "code",
      "source": [
        "t_directory = '/content/drive/MyDrive/관계영상/관계영상002'\n",
        "\n",
        "model_test_tiktok_image = ImageDataGenerator(rescale=1./255)\n",
        "\n",
        "test_data_gen = model_test_tiktok_image.flow_from_directory(batch_size=32,\n",
        "                                                         directory=t_directory,\n",
        "                                                         target_size=(180, 180),\n",
        "                                                         class_mode='binary')"
      ],
      "metadata": {
        "colab": {
          "base_uri": "https://localhost:8080/"
        },
        "id": "n0BCjNShnHe9",
        "outputId": "7b1e9df1-84fb-4cc7-daed-9f3cbf69023e"
      },
      "execution_count": null,
      "outputs": [
        {
          "output_type": "stream",
          "name": "stdout",
          "text": [
            "Found 15 images belonging to 2 classes.\n"
          ]
        }
      ]
    },
    {
      "cell_type": "code",
      "source": [
        "test_loss, test_accuracy = model.evaluate(test_data_gen)\n",
        "\n",
        "print(\"Test Loss:\", test_loss)\n",
        "print(\"Test Accuracy:\", test_accuracy)"
      ],
      "metadata": {
        "colab": {
          "base_uri": "https://localhost:8080/"
        },
        "id": "wCuH9_DVudR-",
        "outputId": "da10156c-2a2a-44c6-b650-d9ca2e3d0ff8"
      },
      "execution_count": null,
      "outputs": [
        {
          "output_type": "stream",
          "name": "stdout",
          "text": [
            "1/1 [==============================] - 11s 11s/step - loss: 2.2895 - accuracy: 0.7333\n",
            "Test Loss: 2.2895185947418213\n",
            "Test Accuracy: 0.7333333492279053\n"
          ]
        }
      ]
    },
    {
      "cell_type": "code",
      "source": [
        "model.predict(test_data_gen)\n",
        "#왜 지수로 나옴?\n",
        "#e01 0.1이니까, 곱해보면 얼쭈 비슷한 정확도가 나오는거 같긴함../\n"
      ],
      "metadata": {
        "id": "f7LLKloRw7rv",
        "colab": {
          "base_uri": "https://localhost:8080/"
        },
        "outputId": "18289bb9-5fc4-43e2-80e0-3b5863ed001f"
      },
      "execution_count": null,
      "outputs": [
        {
          "output_type": "stream",
          "name": "stdout",
          "text": [
            "1/1 [==============================] - 0s 323ms/step\n"
          ]
        },
        {
          "output_type": "execute_result",
          "data": {
            "text/plain": [
              "array([[9.8868537e-01, 1.2720055e-02],\n",
              "       [9.7718209e-01, 2.4752110e-02],\n",
              "       [9.9438500e-01, 5.6707873e-03],\n",
              "       [6.0111636e-01, 4.4409320e-01],\n",
              "       [9.1668046e-01, 9.0598725e-02],\n",
              "       [7.9135972e-01, 2.4621685e-01],\n",
              "       [9.9804926e-01, 1.5678297e-03],\n",
              "       [9.5007680e-02, 9.2930239e-01],\n",
              "       [9.9932098e-01, 5.7273463e-04],\n",
              "       [6.1005843e-01, 4.4239253e-01],\n",
              "       [5.3457814e-01, 5.0863904e-01],\n",
              "       [7.4814528e-01, 3.0125487e-01],\n",
              "       [3.9558589e-01, 6.5310282e-01],\n",
              "       [9.9408418e-01, 5.9074080e-03],\n",
              "       [8.0369979e-01, 2.2734144e-01]], dtype=float32)"
            ]
          },
          "metadata": {},
          "execution_count": 8
        }
      ]
    },
    {
      "cell_type": "code",
      "source": [],
      "metadata": {
        "id": "Zj-x_mCMC0sN"
      },
      "execution_count": null,
      "outputs": []
    }
  ]
}