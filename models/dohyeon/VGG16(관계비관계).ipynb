{
  "nbformat": 4,
  "nbformat_minor": 0,
  "metadata": {
    "colab": {
      "provenance": [],
      "gpuType": "T4"
    },
    "kernelspec": {
      "name": "python3",
      "display_name": "Python 3"
    },
    "language_info": {
      "name": "python"
    },
    "accelerator": "GPU"
  },
  "cells": [
    {
      "cell_type": "code",
      "execution_count": null,
      "metadata": {
        "colab": {
          "base_uri": "https://localhost:8080/"
        },
        "id": "QcSLDbqgvcLW",
        "outputId": "1e27a00d-cd2d-4ac6-9256-011ba41ff1e2"
      },
      "outputs": [
        {
          "output_type": "stream",
          "name": "stdout",
          "text": [
            "Looking in indexes: https://pypi.org/simple, https://us-python.pkg.dev/colab-wheels/public/simple/\n",
            "Requirement already satisfied: tensorflow in /usr/local/lib/python3.10/dist-packages (2.12.0)\n",
            "Requirement already satisfied: absl-py>=1.0.0 in /usr/local/lib/python3.10/dist-packages (from tensorflow) (1.4.0)\n",
            "Requirement already satisfied: astunparse>=1.6.0 in /usr/local/lib/python3.10/dist-packages (from tensorflow) (1.6.3)\n",
            "Requirement already satisfied: flatbuffers>=2.0 in /usr/local/lib/python3.10/dist-packages (from tensorflow) (23.3.3)\n",
            "Requirement already satisfied: gast<=0.4.0,>=0.2.1 in /usr/local/lib/python3.10/dist-packages (from tensorflow) (0.4.0)\n",
            "Requirement already satisfied: google-pasta>=0.1.1 in /usr/local/lib/python3.10/dist-packages (from tensorflow) (0.2.0)\n",
            "Requirement already satisfied: grpcio<2.0,>=1.24.3 in /usr/local/lib/python3.10/dist-packages (from tensorflow) (1.54.0)\n",
            "Requirement already satisfied: h5py>=2.9.0 in /usr/local/lib/python3.10/dist-packages (from tensorflow) (3.8.0)\n",
            "Requirement already satisfied: jax>=0.3.15 in /usr/local/lib/python3.10/dist-packages (from tensorflow) (0.4.10)\n",
            "Requirement already satisfied: keras<2.13,>=2.12.0 in /usr/local/lib/python3.10/dist-packages (from tensorflow) (2.12.0)\n",
            "Requirement already satisfied: libclang>=13.0.0 in /usr/local/lib/python3.10/dist-packages (from tensorflow) (16.0.0)\n",
            "Requirement already satisfied: numpy<1.24,>=1.22 in /usr/local/lib/python3.10/dist-packages (from tensorflow) (1.22.4)\n",
            "Requirement already satisfied: opt-einsum>=2.3.2 in /usr/local/lib/python3.10/dist-packages (from tensorflow) (3.3.0)\n",
            "Requirement already satisfied: packaging in /usr/local/lib/python3.10/dist-packages (from tensorflow) (23.1)\n",
            "Requirement already satisfied: protobuf!=4.21.0,!=4.21.1,!=4.21.2,!=4.21.3,!=4.21.4,!=4.21.5,<5.0.0dev,>=3.20.3 in /usr/local/lib/python3.10/dist-packages (from tensorflow) (3.20.3)\n",
            "Requirement already satisfied: setuptools in /usr/local/lib/python3.10/dist-packages (from tensorflow) (67.7.2)\n",
            "Requirement already satisfied: six>=1.12.0 in /usr/local/lib/python3.10/dist-packages (from tensorflow) (1.16.0)\n",
            "Requirement already satisfied: tensorboard<2.13,>=2.12 in /usr/local/lib/python3.10/dist-packages (from tensorflow) (2.12.2)\n",
            "Requirement already satisfied: tensorflow-estimator<2.13,>=2.12.0 in /usr/local/lib/python3.10/dist-packages (from tensorflow) (2.12.0)\n",
            "Requirement already satisfied: termcolor>=1.1.0 in /usr/local/lib/python3.10/dist-packages (from tensorflow) (2.3.0)\n",
            "Requirement already satisfied: typing-extensions>=3.6.6 in /usr/local/lib/python3.10/dist-packages (from tensorflow) (4.5.0)\n",
            "Requirement already satisfied: wrapt<1.15,>=1.11.0 in /usr/local/lib/python3.10/dist-packages (from tensorflow) (1.14.1)\n",
            "Requirement already satisfied: tensorflow-io-gcs-filesystem>=0.23.1 in /usr/local/lib/python3.10/dist-packages (from tensorflow) (0.32.0)\n",
            "Requirement already satisfied: wheel<1.0,>=0.23.0 in /usr/local/lib/python3.10/dist-packages (from astunparse>=1.6.0->tensorflow) (0.40.0)\n",
            "Requirement already satisfied: ml-dtypes>=0.1.0 in /usr/local/lib/python3.10/dist-packages (from jax>=0.3.15->tensorflow) (0.1.0)\n",
            "Requirement already satisfied: scipy>=1.7 in /usr/local/lib/python3.10/dist-packages (from jax>=0.3.15->tensorflow) (1.10.1)\n",
            "Requirement already satisfied: google-auth<3,>=1.6.3 in /usr/local/lib/python3.10/dist-packages (from tensorboard<2.13,>=2.12->tensorflow) (2.17.3)\n",
            "Requirement already satisfied: google-auth-oauthlib<1.1,>=0.5 in /usr/local/lib/python3.10/dist-packages (from tensorboard<2.13,>=2.12->tensorflow) (1.0.0)\n",
            "Requirement already satisfied: markdown>=2.6.8 in /usr/local/lib/python3.10/dist-packages (from tensorboard<2.13,>=2.12->tensorflow) (3.4.3)\n",
            "Requirement already satisfied: requests<3,>=2.21.0 in /usr/local/lib/python3.10/dist-packages (from tensorboard<2.13,>=2.12->tensorflow) (2.27.1)\n",
            "Requirement already satisfied: tensorboard-data-server<0.8.0,>=0.7.0 in /usr/local/lib/python3.10/dist-packages (from tensorboard<2.13,>=2.12->tensorflow) (0.7.0)\n",
            "Requirement already satisfied: tensorboard-plugin-wit>=1.6.0 in /usr/local/lib/python3.10/dist-packages (from tensorboard<2.13,>=2.12->tensorflow) (1.8.1)\n",
            "Requirement already satisfied: werkzeug>=1.0.1 in /usr/local/lib/python3.10/dist-packages (from tensorboard<2.13,>=2.12->tensorflow) (2.3.0)\n",
            "Requirement already satisfied: cachetools<6.0,>=2.0.0 in /usr/local/lib/python3.10/dist-packages (from google-auth<3,>=1.6.3->tensorboard<2.13,>=2.12->tensorflow) (5.3.0)\n",
            "Requirement already satisfied: pyasn1-modules>=0.2.1 in /usr/local/lib/python3.10/dist-packages (from google-auth<3,>=1.6.3->tensorboard<2.13,>=2.12->tensorflow) (0.3.0)\n",
            "Requirement already satisfied: rsa<5,>=3.1.4 in /usr/local/lib/python3.10/dist-packages (from google-auth<3,>=1.6.3->tensorboard<2.13,>=2.12->tensorflow) (4.9)\n",
            "Requirement already satisfied: requests-oauthlib>=0.7.0 in /usr/local/lib/python3.10/dist-packages (from google-auth-oauthlib<1.1,>=0.5->tensorboard<2.13,>=2.12->tensorflow) (1.3.1)\n",
            "Requirement already satisfied: urllib3<1.27,>=1.21.1 in /usr/local/lib/python3.10/dist-packages (from requests<3,>=2.21.0->tensorboard<2.13,>=2.12->tensorflow) (1.26.15)\n",
            "Requirement already satisfied: certifi>=2017.4.17 in /usr/local/lib/python3.10/dist-packages (from requests<3,>=2.21.0->tensorboard<2.13,>=2.12->tensorflow) (2022.12.7)\n",
            "Requirement already satisfied: charset-normalizer~=2.0.0 in /usr/local/lib/python3.10/dist-packages (from requests<3,>=2.21.0->tensorboard<2.13,>=2.12->tensorflow) (2.0.12)\n",
            "Requirement already satisfied: idna<4,>=2.5 in /usr/local/lib/python3.10/dist-packages (from requests<3,>=2.21.0->tensorboard<2.13,>=2.12->tensorflow) (3.4)\n",
            "Requirement already satisfied: MarkupSafe>=2.1.1 in /usr/local/lib/python3.10/dist-packages (from werkzeug>=1.0.1->tensorboard<2.13,>=2.12->tensorflow) (2.1.2)\n",
            "Requirement already satisfied: pyasn1<0.6.0,>=0.4.6 in /usr/local/lib/python3.10/dist-packages (from pyasn1-modules>=0.2.1->google-auth<3,>=1.6.3->tensorboard<2.13,>=2.12->tensorflow) (0.5.0)\n",
            "Requirement already satisfied: oauthlib>=3.0.0 in /usr/local/lib/python3.10/dist-packages (from requests-oauthlib>=0.7.0->google-auth-oauthlib<1.1,>=0.5->tensorboard<2.13,>=2.12->tensorflow) (3.2.2)\n"
          ]
        }
      ],
      "source": [
        "!pip install tensorflow"
      ]
    },
    {
      "cell_type": "code",
      "source": [
        "from google.colab import drive\n",
        "drive.mount('/content/drive')"
      ],
      "metadata": {
        "colab": {
          "base_uri": "https://localhost:8080/"
        },
        "id": "bKfQ79xoxA8s",
        "outputId": "877cf22b-bd4f-4acd-cb6e-0b812a60c23d"
      },
      "execution_count": null,
      "outputs": [
        {
          "output_type": "stream",
          "name": "stdout",
          "text": [
            "Mounted at /content/drive\n"
          ]
        }
      ]
    },
    {
      "cell_type": "code",
      "source": [
        "import os"
      ],
      "metadata": {
        "id": "Rb1UwZ3mxFx8"
      },
      "execution_count": null,
      "outputs": []
    },
    {
      "cell_type": "code",
      "source": [
        "one_path = '/content/drive/MyDrive/관계비관계/관계이미지' #1020개\n",
        "two_path = '/content/drive/MyDrive/관계비관계/비관계이미지' #660개\n",
        "\n",
        "print(len(os.listdir(one_path)))\n",
        "print(len(os.listdir(two_path)))"
      ],
      "metadata": {
        "colab": {
          "base_uri": "https://localhost:8080/"
        },
        "id": "Eyb0fUBqxLyL",
        "outputId": "ad6277f7-7572-42f4-973e-3952d666530d"
      },
      "execution_count": null,
      "outputs": [
        {
          "output_type": "stream",
          "name": "stdout",
          "text": [
            "1000\n",
            "660\n"
          ]
        }
      ]
    },
    {
      "cell_type": "code",
      "source": [
        "#for file_path in os.listdir(one_path)[:340]:\n",
        " # os.remove(os.path.join(one_path, file_path))\n",
        "#print(len(os.listdir(one_path)))"
      ],
      "metadata": {
        "colab": {
          "base_uri": "https://localhost:8080/"
        },
        "id": "AOfGByJ4yOOZ",
        "outputId": "10243f92-8085-4313-d066-b6c697bb5c27"
      },
      "execution_count": null,
      "outputs": [
        {
          "output_type": "stream",
          "name": "stdout",
          "text": [
            "660\n"
          ]
        }
      ]
    },
    {
      "cell_type": "code",
      "source": [
        "!pip install split-folders"
      ],
      "metadata": {
        "colab": {
          "base_uri": "https://localhost:8080/"
        },
        "id": "s202OVsXy75o",
        "outputId": "70e150f4-3330-4734-a412-4b4364373de5"
      },
      "execution_count": null,
      "outputs": [
        {
          "output_type": "stream",
          "name": "stdout",
          "text": [
            "Looking in indexes: https://pypi.org/simple, https://us-python.pkg.dev/colab-wheels/public/simple/\n",
            "Collecting split-folders\n",
            "  Downloading split_folders-0.5.1-py3-none-any.whl (8.4 kB)\n",
            "Installing collected packages: split-folders\n",
            "Successfully installed split-folders-0.5.1\n"
          ]
        }
      ]
    },
    {
      "cell_type": "code",
      "source": [
        "!mkdir test_data\n"
      ],
      "metadata": {
        "id": "VnY6P2HFzlc8"
      },
      "execution_count": null,
      "outputs": []
    },
    {
      "cell_type": "code",
      "source": [
        "!mkdir test_data2"
      ],
      "metadata": {
        "id": "KDK_cx_azppe"
      },
      "execution_count": null,
      "outputs": []
    },
    {
      "cell_type": "code",
      "source": [
        "import splitfolders\n",
        "splitfolders.ratio('/content/drive/MyDrive/관계비관계', output='test_data', seed=43, ratio=(.7, .3))"
      ],
      "metadata": {
        "colab": {
          "base_uri": "https://localhost:8080/"
        },
        "id": "gjP7D_avybe3",
        "outputId": "bcb1caf6-1129-4823-f506-d3f912337846"
      },
      "execution_count": null,
      "outputs": [
        {
          "output_type": "stream",
          "name": "stderr",
          "text": [
            "Copying files: 1320 files [00:17, 74.26 files/s] \n"
          ]
        }
      ]
    },
    {
      "cell_type": "code",
      "source": [
        "print(len(os.listdir('/content/test_data/train/관계이미지')))\n",
        "print(len(os.listdir('/content/test_data/train/비관계이미지')))\n",
        "\n",
        "print(len(os.listdir('/content/test_data/val/관계이미지')))\n",
        "print(len(os.listdir('/content/test_data/val/비관계이미지')))\n"
      ],
      "metadata": {
        "colab": {
          "base_uri": "https://localhost:8080/"
        },
        "id": "if-YJPZc0N_p",
        "outputId": "449b582e-8653-4dfa-e521-a404b25d1406"
      },
      "execution_count": null,
      "outputs": [
        {
          "output_type": "stream",
          "name": "stdout",
          "text": [
            "461\n",
            "461\n",
            "199\n",
            "199\n"
          ]
        }
      ]
    },
    {
      "cell_type": "code",
      "source": [
        "import pandas as pd \n",
        "import numpy as np\n",
        "import tensorflow as tf\n",
        "from keras.preprocessing.image import * \n",
        "from keras.utils import to_categorical\n",
        "from sklearn.model_selection import train_test_split\n",
        "import matplotlib.pyplot as plt\n",
        "import random\n",
        "import os "
      ],
      "metadata": {
        "id": "aVP78fE_eMCa"
      },
      "execution_count": null,
      "outputs": []
    },
    {
      "cell_type": "code",
      "source": [
        "from keras.applications.vgg16 import VGG16\n",
        "from keras.preprocessing.image import ImageDataGenerator\n",
        "from keras.layers import Conv2D, MaxPooling2D, Flatten, Dense, Dropout, Input\n",
        "from keras.models import Model\n",
        "from tensorflow.keras import optimizers, regularizers, callbacks"
      ],
      "metadata": {
        "id": "nuzc-la0eNYc"
      },
      "execution_count": null,
      "outputs": []
    },
    {
      "cell_type": "code",
      "source": [
        "input_tensor = Input(shape=(180,180,3)) #58 나온 원래 코드 150, 150, 3 #224가 디폴트값임.\n",
        "model = VGG16(weights='imagenet', include_top=False, input_tensor = input_tensor)"
      ],
      "metadata": {
        "colab": {
          "base_uri": "https://localhost:8080/"
        },
        "id": "mU0otjA3eQcc",
        "outputId": "97ec6ae5-ce41-4d88-a1a0-d0346b7b7862"
      },
      "execution_count": null,
      "outputs": [
        {
          "output_type": "stream",
          "name": "stdout",
          "text": [
            "Downloading data from https://storage.googleapis.com/tensorflow/keras-applications/vgg16/vgg16_weights_tf_dim_ordering_tf_kernels_notop.h5\n",
            "58889256/58889256 [==============================] - 0s 0us/step\n"
          ]
        }
      ]
    },
    {
      "cell_type": "code",
      "source": [
        "# 모델 Layer 데이터화\n",
        "layer_dict = dict([(layer.name, layer) for layer in model.layers])\n",
        "\n",
        "# Layer 추가\n",
        "x = layer_dict['block5_pool'].output\n",
        "# Cov2D Layer +\n",
        "x = Conv2D(filters = 64, kernel_size=(3, 3), activation='relu', padding='SAME')(x)\n",
        "# MaxPooling2D Layer +\n",
        "x = MaxPooling2D(pool_size=(2, 2), padding='SAME')(x)\n",
        "# Flatten Layer +\n",
        "x = Flatten()(x)\n",
        "# FC Layer +\n",
        "x = Dense(2048, activation='relu')(x)\n",
        "x = Dropout(0.4)(x)\n",
        "x = Dense(1024, activation='relu')(x)\n",
        "x = Dropout(0.4)(x)\n",
        "x = Dense(2, activation='sigmoid')(x)\n",
        "\n",
        "# new model 정의\n",
        "new_model = Model(inputs = model.input, outputs = x)"
      ],
      "metadata": {
        "id": "anGsDa_1eR9a"
      },
      "execution_count": null,
      "outputs": []
    },
    {
      "cell_type": "code",
      "source": [
        "# CNN Pre-trained 가중치를 그대로 사용할때\n",
        "for layer in new_model.layers[:19] :\n",
        "    layer.trainable = False\n",
        "\n",
        "new_model.summary()\n",
        "\n",
        "# 컴파일 옵션\n",
        "new_model.compile(loss='sparse_categorical_crossentropy',\n",
        "                     optimizer= tf.keras.optimizers.Adam(learning_rate=0.001),\n",
        "                     metrics=['accuracy'])"
      ],
      "metadata": {
        "colab": {
          "base_uri": "https://localhost:8080/"
        },
        "id": "O1QSu_hVeXD4",
        "outputId": "232b5f07-5f02-413a-8ad6-64aeee4e8ca6"
      },
      "execution_count": null,
      "outputs": [
        {
          "output_type": "stream",
          "name": "stdout",
          "text": [
            "Model: \"model\"\n",
            "_________________________________________________________________\n",
            " Layer (type)                Output Shape              Param #   \n",
            "=================================================================\n",
            " input_1 (InputLayer)        [(None, 180, 180, 3)]     0         \n",
            "                                                                 \n",
            " block1_conv1 (Conv2D)       (None, 180, 180, 64)      1792      \n",
            "                                                                 \n",
            " block1_conv2 (Conv2D)       (None, 180, 180, 64)      36928     \n",
            "                                                                 \n",
            " block1_pool (MaxPooling2D)  (None, 90, 90, 64)        0         \n",
            "                                                                 \n",
            " block2_conv1 (Conv2D)       (None, 90, 90, 128)       73856     \n",
            "                                                                 \n",
            " block2_conv2 (Conv2D)       (None, 90, 90, 128)       147584    \n",
            "                                                                 \n",
            " block2_pool (MaxPooling2D)  (None, 45, 45, 128)       0         \n",
            "                                                                 \n",
            " block3_conv1 (Conv2D)       (None, 45, 45, 256)       295168    \n",
            "                                                                 \n",
            " block3_conv2 (Conv2D)       (None, 45, 45, 256)       590080    \n",
            "                                                                 \n",
            " block3_conv3 (Conv2D)       (None, 45, 45, 256)       590080    \n",
            "                                                                 \n",
            " block3_pool (MaxPooling2D)  (None, 22, 22, 256)       0         \n",
            "                                                                 \n",
            " block4_conv1 (Conv2D)       (None, 22, 22, 512)       1180160   \n",
            "                                                                 \n",
            " block4_conv2 (Conv2D)       (None, 22, 22, 512)       2359808   \n",
            "                                                                 \n",
            " block4_conv3 (Conv2D)       (None, 22, 22, 512)       2359808   \n",
            "                                                                 \n",
            " block4_pool (MaxPooling2D)  (None, 11, 11, 512)       0         \n",
            "                                                                 \n",
            " block5_conv1 (Conv2D)       (None, 11, 11, 512)       2359808   \n",
            "                                                                 \n",
            " block5_conv2 (Conv2D)       (None, 11, 11, 512)       2359808   \n",
            "                                                                 \n",
            " block5_conv3 (Conv2D)       (None, 11, 11, 512)       2359808   \n",
            "                                                                 \n",
            " block5_pool (MaxPooling2D)  (None, 5, 5, 512)         0         \n",
            "                                                                 \n",
            " conv2d (Conv2D)             (None, 5, 5, 64)          294976    \n",
            "                                                                 \n",
            " max_pooling2d (MaxPooling2D  (None, 3, 3, 64)         0         \n",
            " )                                                               \n",
            "                                                                 \n",
            " flatten (Flatten)           (None, 576)               0         \n",
            "                                                                 \n",
            " dense (Dense)               (None, 2048)              1181696   \n",
            "                                                                 \n",
            " dropout (Dropout)           (None, 2048)              0         \n",
            "                                                                 \n",
            " dense_1 (Dense)             (None, 1024)              2098176   \n",
            "                                                                 \n",
            " dropout_1 (Dropout)         (None, 1024)              0         \n",
            "                                                                 \n",
            " dense_2 (Dense)             (None, 2)                 2050      \n",
            "                                                                 \n",
            "=================================================================\n",
            "Total params: 18,291,586\n",
            "Trainable params: 3,576,898\n",
            "Non-trainable params: 14,714,688\n",
            "_________________________________________________________________\n"
          ]
        }
      ]
    },
    {
      "cell_type": "code",
      "source": [
        "# 테스트 데이터 (관계/비관계)\n",
        "train_dir ='/content/test_data/train'\n",
        "test_dir = '/content/test_data/val'\n",
        "\n",
        "# 폴더에 따라 자동 분류\n",
        "train_image_generator = ImageDataGenerator(rescale=1./255,\n",
        "                                           rotation_range=15,\n",
        "                                           zoom_range=0.2,\n",
        "                                           horizontal_flip=True,\n",
        "                                           )\n",
        "test_image_generator = ImageDataGenerator(rescale=1./255)\n",
        "\n",
        "# 데이터 구조 생성\n",
        "train_data_gen = train_image_generator.flow_from_directory(batch_size=100,\n",
        "                                                           directory=train_dir,\n",
        "                                                           shuffle=True,\n",
        "                                                           target_size=(180, 180),\n",
        "                                                           class_mode='binary')\n",
        "\n",
        "test_data_gen = test_image_generator.flow_from_directory(batch_size=100,\n",
        "                                                         directory=test_dir,\n",
        "                                                         target_size=(180, 180),\n",
        "                                                         class_mode='binary')"
      ],
      "metadata": {
        "colab": {
          "base_uri": "https://localhost:8080/"
        },
        "id": "Ey7FzLt7ecXB",
        "outputId": "560f09cd-5c57-4c69-8bf3-d4c14e0b1510"
      },
      "execution_count": null,
      "outputs": [
        {
          "output_type": "stream",
          "name": "stdout",
          "text": [
            "Found 922 images belonging to 2 classes.\n",
            "Found 398 images belonging to 2 classes.\n"
          ]
        }
      ]
    },
    {
      "cell_type": "code",
      "source": [
        "history = new_model.fit(train_data_gen, epochs=50,\n",
        "                        validation_data=test_data_gen)"
      ],
      "metadata": {
        "colab": {
          "base_uri": "https://localhost:8080/"
        },
        "id": "UAmV_ODVepJF",
        "outputId": "c268dfe1-039d-4398-a705-c737d5e1eab8"
      },
      "execution_count": null,
      "outputs": [
        {
          "output_type": "stream",
          "name": "stdout",
          "text": [
            "Epoch 1/50\n",
            "10/10 [==============================] - 42s 2s/step - loss: 1.2923 - accuracy: 0.5195 - val_loss: 0.6059 - val_accuracy: 0.6206\n",
            "Epoch 2/50\n",
            "10/10 [==============================] - 15s 1s/step - loss: 0.5121 - accuracy: 0.7484 - val_loss: 0.3368 - val_accuracy: 0.8467\n",
            "Epoch 3/50\n",
            "10/10 [==============================] - 14s 1s/step - loss: 0.3453 - accuracy: 0.8449 - val_loss: 0.2841 - val_accuracy: 0.8719\n",
            "Epoch 4/50\n",
            "10/10 [==============================] - 16s 2s/step - loss: 0.2569 - accuracy: 0.8948 - val_loss: 0.2554 - val_accuracy: 0.8920\n",
            "Epoch 5/50\n",
            "10/10 [==============================] - 15s 1s/step - loss: 0.2213 - accuracy: 0.9176 - val_loss: 0.2314 - val_accuracy: 0.9070\n",
            "Epoch 6/50\n",
            "10/10 [==============================] - 15s 1s/step - loss: 0.1835 - accuracy: 0.9197 - val_loss: 0.3513 - val_accuracy: 0.8693\n",
            "Epoch 7/50\n",
            "10/10 [==============================] - 15s 1s/step - loss: 0.1654 - accuracy: 0.9360 - val_loss: 0.2116 - val_accuracy: 0.9271\n",
            "Epoch 8/50\n",
            "10/10 [==============================] - 15s 1s/step - loss: 0.1567 - accuracy: 0.9360 - val_loss: 0.2052 - val_accuracy: 0.9271\n",
            "Epoch 9/50\n",
            "10/10 [==============================] - 15s 1s/step - loss: 0.1171 - accuracy: 0.9544 - val_loss: 0.2158 - val_accuracy: 0.9322\n",
            "Epoch 10/50\n",
            "10/10 [==============================] - 17s 2s/step - loss: 0.1544 - accuracy: 0.9382 - val_loss: 0.2047 - val_accuracy: 0.9271\n",
            "Epoch 11/50\n",
            "10/10 [==============================] - 15s 1s/step - loss: 0.1728 - accuracy: 0.9295 - val_loss: 0.1971 - val_accuracy: 0.9372\n",
            "Epoch 12/50\n",
            "10/10 [==============================] - 21s 2s/step - loss: 0.0970 - accuracy: 0.9588 - val_loss: 0.2108 - val_accuracy: 0.9246\n",
            "Epoch 13/50\n",
            "10/10 [==============================] - 15s 1s/step - loss: 0.0903 - accuracy: 0.9642 - val_loss: 0.2474 - val_accuracy: 0.9246\n",
            "Epoch 14/50\n",
            "10/10 [==============================] - 16s 2s/step - loss: 0.1023 - accuracy: 0.9664 - val_loss: 0.2780 - val_accuracy: 0.9045\n",
            "Epoch 15/50\n",
            "10/10 [==============================] - 17s 2s/step - loss: 0.0625 - accuracy: 0.9816 - val_loss: 0.3029 - val_accuracy: 0.9095\n",
            "Epoch 16/50\n",
            "10/10 [==============================] - 15s 1s/step - loss: 0.0858 - accuracy: 0.9718 - val_loss: 0.4155 - val_accuracy: 0.8794\n",
            "Epoch 17/50\n",
            "10/10 [==============================] - 15s 2s/step - loss: 0.0761 - accuracy: 0.9696 - val_loss: 0.4642 - val_accuracy: 0.8618\n",
            "Epoch 18/50\n",
            "10/10 [==============================] - 15s 2s/step - loss: 0.1113 - accuracy: 0.9534 - val_loss: 0.3086 - val_accuracy: 0.9070\n",
            "Epoch 19/50\n",
            "10/10 [==============================] - 15s 1s/step - loss: 0.0668 - accuracy: 0.9740 - val_loss: 0.2622 - val_accuracy: 0.9246\n",
            "Epoch 20/50\n",
            "10/10 [==============================] - 15s 2s/step - loss: 0.0684 - accuracy: 0.9772 - val_loss: 0.2719 - val_accuracy: 0.9397\n",
            "Epoch 21/50\n",
            "10/10 [==============================] - 15s 1s/step - loss: 0.0544 - accuracy: 0.9761 - val_loss: 0.2656 - val_accuracy: 0.9246\n",
            "Epoch 22/50\n",
            "10/10 [==============================] - 15s 2s/step - loss: 0.0649 - accuracy: 0.9740 - val_loss: 0.2456 - val_accuracy: 0.9322\n",
            "Epoch 23/50\n",
            "10/10 [==============================] - 15s 2s/step - loss: 0.0628 - accuracy: 0.9794 - val_loss: 0.2500 - val_accuracy: 0.9271\n",
            "Epoch 24/50\n",
            "10/10 [==============================] - 15s 1s/step - loss: 0.0653 - accuracy: 0.9761 - val_loss: 0.3083 - val_accuracy: 0.9322\n",
            "Epoch 25/50\n",
            "10/10 [==============================] - 15s 2s/step - loss: 0.0717 - accuracy: 0.9729 - val_loss: 0.4261 - val_accuracy: 0.8819\n",
            "Epoch 26/50\n",
            "10/10 [==============================] - 16s 2s/step - loss: 0.0795 - accuracy: 0.9642 - val_loss: 0.2658 - val_accuracy: 0.9322\n",
            "Epoch 27/50\n",
            "10/10 [==============================] - 15s 1s/step - loss: 0.0493 - accuracy: 0.9837 - val_loss: 0.3096 - val_accuracy: 0.9347\n",
            "Epoch 28/50\n",
            "10/10 [==============================] - 15s 1s/step - loss: 0.0292 - accuracy: 0.9902 - val_loss: 0.3274 - val_accuracy: 0.9322\n",
            "Epoch 29/50\n",
            "10/10 [==============================] - 15s 1s/step - loss: 0.0450 - accuracy: 0.9816 - val_loss: 0.2563 - val_accuracy: 0.9397\n",
            "Epoch 30/50\n",
            "10/10 [==============================] - 15s 1s/step - loss: 0.0325 - accuracy: 0.9892 - val_loss: 0.2492 - val_accuracy: 0.9347\n",
            "Epoch 31/50\n",
            "10/10 [==============================] - 15s 1s/step - loss: 0.0336 - accuracy: 0.9902 - val_loss: 0.2272 - val_accuracy: 0.9548\n",
            "Epoch 32/50\n",
            "10/10 [==============================] - 15s 1s/step - loss: 0.0188 - accuracy: 0.9967 - val_loss: 0.2674 - val_accuracy: 0.9296\n",
            "Epoch 33/50\n",
            "10/10 [==============================] - 14s 1s/step - loss: 0.0311 - accuracy: 0.9881 - val_loss: 0.2812 - val_accuracy: 0.9422\n",
            "Epoch 34/50\n",
            "10/10 [==============================] - 15s 1s/step - loss: 0.0100 - accuracy: 0.9989 - val_loss: 0.3061 - val_accuracy: 0.9447\n",
            "Epoch 35/50\n",
            "10/10 [==============================] - 14s 1s/step - loss: 0.0178 - accuracy: 0.9935 - val_loss: 0.3512 - val_accuracy: 0.9296\n",
            "Epoch 36/50\n",
            "10/10 [==============================] - 15s 1s/step - loss: 0.0287 - accuracy: 0.9935 - val_loss: 0.6699 - val_accuracy: 0.8618\n",
            "Epoch 37/50\n",
            "10/10 [==============================] - 15s 1s/step - loss: 0.1137 - accuracy: 0.9620 - val_loss: 0.4474 - val_accuracy: 0.8794\n",
            "Epoch 38/50\n",
            "10/10 [==============================] - 14s 1s/step - loss: 0.0662 - accuracy: 0.9740 - val_loss: 0.2521 - val_accuracy: 0.9221\n",
            "Epoch 39/50\n",
            "10/10 [==============================] - 15s 1s/step - loss: 0.0306 - accuracy: 0.9902 - val_loss: 0.3228 - val_accuracy: 0.9347\n",
            "Epoch 40/50\n",
            "10/10 [==============================] - 15s 1s/step - loss: 0.0681 - accuracy: 0.9783 - val_loss: 0.2732 - val_accuracy: 0.9397\n",
            "Epoch 41/50\n",
            "10/10 [==============================] - 15s 1s/step - loss: 0.0380 - accuracy: 0.9848 - val_loss: 0.2412 - val_accuracy: 0.9372\n",
            "Epoch 42/50\n",
            "10/10 [==============================] - 15s 1s/step - loss: 0.0434 - accuracy: 0.9794 - val_loss: 0.3241 - val_accuracy: 0.9095\n",
            "Epoch 43/50\n",
            "10/10 [==============================] - 15s 1s/step - loss: 0.0301 - accuracy: 0.9892 - val_loss: 0.3709 - val_accuracy: 0.9397\n",
            "Epoch 44/50\n",
            "10/10 [==============================] - 15s 1s/step - loss: 0.0257 - accuracy: 0.9957 - val_loss: 0.3809 - val_accuracy: 0.9347\n",
            "Epoch 45/50\n",
            "10/10 [==============================] - 15s 1s/step - loss: 0.0258 - accuracy: 0.9924 - val_loss: 0.3494 - val_accuracy: 0.9347\n",
            "Epoch 46/50\n",
            "10/10 [==============================] - 15s 1s/step - loss: 0.0106 - accuracy: 0.9967 - val_loss: 0.3567 - val_accuracy: 0.9322\n",
            "Epoch 47/50\n",
            "10/10 [==============================] - 15s 1s/step - loss: 0.0255 - accuracy: 0.9913 - val_loss: 0.3740 - val_accuracy: 0.9246\n",
            "Epoch 48/50\n",
            "10/10 [==============================] - 17s 2s/step - loss: 0.0169 - accuracy: 0.9935 - val_loss: 0.3320 - val_accuracy: 0.9422\n",
            "Epoch 49/50\n",
            "10/10 [==============================] - 14s 1s/step - loss: 0.0188 - accuracy: 0.9946 - val_loss: 0.3603 - val_accuracy: 0.9271\n",
            "Epoch 50/50\n",
            "10/10 [==============================] - 15s 1s/step - loss: 0.0329 - accuracy: 0.9892 - val_loss: 0.3976 - val_accuracy: 0.9121\n"
          ]
        }
      ]
    },
    {
      "cell_type": "code",
      "source": [
        "new_model.save(\"newVGG16(관계비관계).h5\") "
      ],
      "metadata": {
        "id": "yx6dtUq7fwHq"
      },
      "execution_count": null,
      "outputs": []
    },
    {
      "cell_type": "code",
      "source": [
        "# 최종 결과 리포트\n",
        "acc = history.history['accuracy']\n",
        "val_acc = history.history['val_accuracy']\n",
        "loss = history.history['loss']\n",
        "val_loss = history.history['val_loss']\n",
        "epochs = range(len(acc))"
      ],
      "metadata": {
        "id": "VkbPRloyfogo"
      },
      "execution_count": null,
      "outputs": []
    },
    {
      "cell_type": "code",
      "source": [
        "from matplotlib import pyplot as plt\n",
        "\n",
        "plt.plot(epochs, acc, 'r', label='Training acc')\n",
        "plt.plot(epochs, val_acc, 'b', label='testing acc')\n",
        "plt.title('Training and testing accuracy')\n",
        "plt.legend()\n",
        "plt.figure()\n",
        "\n",
        "plt.plot(epochs, loss, 'r', label='Training loss')\n",
        "plt.plot(epochs, val_loss, 'b', label='testing loss')\n",
        "plt.title('Training and testing loss')\n",
        "plt.legend()\n",
        "\n",
        "plt.show()"
      ],
      "metadata": {
        "colab": {
          "base_uri": "https://localhost:8080/",
          "height": 887
        },
        "id": "HneTIo2gfpkc",
        "outputId": "8d7651dd-d7a6-4225-e84d-bbf73100de8f"
      },
      "execution_count": null,
      "outputs": [
        {
          "output_type": "display_data",
          "data": {
            "text/plain": [
              "<Figure size 640x480 with 1 Axes>"
            ],
            "image/png": "[encoded data removed]"
          },
          "metadata": {}
        },
        {
          "output_type": "display_data",
          "data": {
            "text/plain": [
              "<Figure size 640x480 with 1 Axes>"
            ],
            "image/png": "[encoded data removed]"
          },
          "metadata": {}
        }
      ]
    }
  ]
}