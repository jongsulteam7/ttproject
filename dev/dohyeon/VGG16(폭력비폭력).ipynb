{
  "nbformat": 4,
  "nbformat_minor": 0,
  "metadata": {
    "colab": {
      "provenance": [],
      "gpuType": "T4"
    },
    "kernelspec": {
      "name": "python3",
      "display_name": "Python 3"
    },
    "language_info": {
      "name": "python"
    },
    "accelerator": "GPU"
  },
  "cells": [
    {
      "cell_type": "code",
      "execution_count": null,
      "metadata": {
        "colab": {
          "base_uri": "https://localhost:8080/"
        },
        "id": "jVkYheNxqLA_",
        "outputId": "2a464cf0-bd31-4ad8-d1e8-5a48b726f676"
      },
      "outputs": [
        {
          "output_type": "stream",
          "name": "stdout",
          "text": [
            "Looking in indexes: https://pypi.org/simple, https://us-python.pkg.dev/colab-wheels/public/simple/\n",
            "Requirement already satisfied: tensorflow in /usr/local/lib/python3.10/dist-packages (2.12.0)\n",
            "Requirement already satisfied: absl-py>=1.0.0 in /usr/local/lib/python3.10/dist-packages (from tensorflow) (1.4.0)\n",
            "Requirement already satisfied: astunparse>=1.6.0 in /usr/local/lib/python3.10/dist-packages (from tensorflow) (1.6.3)\n",
            "Requirement already satisfied: flatbuffers>=2.0 in /usr/local/lib/python3.10/dist-packages (from tensorflow) (23.3.3)\n",
            "Requirement already satisfied: gast<=0.4.0,>=0.2.1 in /usr/local/lib/python3.10/dist-packages (from tensorflow) (0.4.0)\n",
            "Requirement already satisfied: google-pasta>=0.1.1 in /usr/local/lib/python3.10/dist-packages (from tensorflow) (0.2.0)\n",
            "Requirement already satisfied: grpcio<2.0,>=1.24.3 in /usr/local/lib/python3.10/dist-packages (from tensorflow) (1.54.0)\n",
            "Requirement already satisfied: h5py>=2.9.0 in /usr/local/lib/python3.10/dist-packages (from tensorflow) (3.8.0)\n",
            "Requirement already satisfied: jax>=0.3.15 in /usr/local/lib/python3.10/dist-packages (from tensorflow) (0.4.10)\n",
            "Requirement already satisfied: keras<2.13,>=2.12.0 in /usr/local/lib/python3.10/dist-packages (from tensorflow) (2.12.0)\n",
            "Requirement already satisfied: libclang>=13.0.0 in /usr/local/lib/python3.10/dist-packages (from tensorflow) (16.0.0)\n",
            "Requirement already satisfied: numpy<1.24,>=1.22 in /usr/local/lib/python3.10/dist-packages (from tensorflow) (1.22.4)\n",
            "Requirement already satisfied: opt-einsum>=2.3.2 in /usr/local/lib/python3.10/dist-packages (from tensorflow) (3.3.0)\n",
            "Requirement already satisfied: packaging in /usr/local/lib/python3.10/dist-packages (from tensorflow) (23.1)\n",
            "Requirement already satisfied: protobuf!=4.21.0,!=4.21.1,!=4.21.2,!=4.21.3,!=4.21.4,!=4.21.5,<5.0.0dev,>=3.20.3 in /usr/local/lib/python3.10/dist-packages (from tensorflow) (3.20.3)\n",
            "Requirement already satisfied: setuptools in /usr/local/lib/python3.10/dist-packages (from tensorflow) (67.7.2)\n",
            "Requirement already satisfied: six>=1.12.0 in /usr/local/lib/python3.10/dist-packages (from tensorflow) (1.16.0)\n",
            "Requirement already satisfied: tensorboard<2.13,>=2.12 in /usr/local/lib/python3.10/dist-packages (from tensorflow) (2.12.2)\n",
            "Requirement already satisfied: tensorflow-estimator<2.13,>=2.12.0 in /usr/local/lib/python3.10/dist-packages (from tensorflow) (2.12.0)\n",
            "Requirement already satisfied: termcolor>=1.1.0 in /usr/local/lib/python3.10/dist-packages (from tensorflow) (2.3.0)\n",
            "Requirement already satisfied: typing-extensions>=3.6.6 in /usr/local/lib/python3.10/dist-packages (from tensorflow) (4.5.0)\n",
            "Requirement already satisfied: wrapt<1.15,>=1.11.0 in /usr/local/lib/python3.10/dist-packages (from tensorflow) (1.14.1)\n",
            "Requirement already satisfied: tensorflow-io-gcs-filesystem>=0.23.1 in /usr/local/lib/python3.10/dist-packages (from tensorflow) (0.32.0)\n",
            "Requirement already satisfied: wheel<1.0,>=0.23.0 in /usr/local/lib/python3.10/dist-packages (from astunparse>=1.6.0->tensorflow) (0.40.0)\n",
            "Requirement already satisfied: ml-dtypes>=0.1.0 in /usr/local/lib/python3.10/dist-packages (from jax>=0.3.15->tensorflow) (0.1.0)\n",
            "Requirement already satisfied: scipy>=1.7 in /usr/local/lib/python3.10/dist-packages (from jax>=0.3.15->tensorflow) (1.10.1)\n",
            "Requirement already satisfied: google-auth<3,>=1.6.3 in /usr/local/lib/python3.10/dist-packages (from tensorboard<2.13,>=2.12->tensorflow) (2.17.3)\n",
            "Requirement already satisfied: google-auth-oauthlib<1.1,>=0.5 in /usr/local/lib/python3.10/dist-packages (from tensorboard<2.13,>=2.12->tensorflow) (1.0.0)\n",
            "Requirement already satisfied: markdown>=2.6.8 in /usr/local/lib/python3.10/dist-packages (from tensorboard<2.13,>=2.12->tensorflow) (3.4.3)\n",
            "Requirement already satisfied: requests<3,>=2.21.0 in /usr/local/lib/python3.10/dist-packages (from tensorboard<2.13,>=2.12->tensorflow) (2.27.1)\n",
            "Requirement already satisfied: tensorboard-data-server<0.8.0,>=0.7.0 in /usr/local/lib/python3.10/dist-packages (from tensorboard<2.13,>=2.12->tensorflow) (0.7.0)\n",
            "Requirement already satisfied: tensorboard-plugin-wit>=1.6.0 in /usr/local/lib/python3.10/dist-packages (from tensorboard<2.13,>=2.12->tensorflow) (1.8.1)\n",
            "Requirement already satisfied: werkzeug>=1.0.1 in /usr/local/lib/python3.10/dist-packages (from tensorboard<2.13,>=2.12->tensorflow) (2.3.0)\n",
            "Requirement already satisfied: cachetools<6.0,>=2.0.0 in /usr/local/lib/python3.10/dist-packages (from google-auth<3,>=1.6.3->tensorboard<2.13,>=2.12->tensorflow) (5.3.0)\n",
            "Requirement already satisfied: pyasn1-modules>=0.2.1 in /usr/local/lib/python3.10/dist-packages (from google-auth<3,>=1.6.3->tensorboard<2.13,>=2.12->tensorflow) (0.3.0)\n",
            "Requirement already satisfied: rsa<5,>=3.1.4 in /usr/local/lib/python3.10/dist-packages (from google-auth<3,>=1.6.3->tensorboard<2.13,>=2.12->tensorflow) (4.9)\n",
            "Requirement already satisfied: requests-oauthlib>=0.7.0 in /usr/local/lib/python3.10/dist-packages (from google-auth-oauthlib<1.1,>=0.5->tensorboard<2.13,>=2.12->tensorflow) (1.3.1)\n",
            "Requirement already satisfied: urllib3<1.27,>=1.21.1 in /usr/local/lib/python3.10/dist-packages (from requests<3,>=2.21.0->tensorboard<2.13,>=2.12->tensorflow) (1.26.15)\n",
            "Requirement already satisfied: certifi>=2017.4.17 in /usr/local/lib/python3.10/dist-packages (from requests<3,>=2.21.0->tensorboard<2.13,>=2.12->tensorflow) (2022.12.7)\n",
            "Requirement already satisfied: charset-normalizer~=2.0.0 in /usr/local/lib/python3.10/dist-packages (from requests<3,>=2.21.0->tensorboard<2.13,>=2.12->tensorflow) (2.0.12)\n",
            "Requirement already satisfied: idna<4,>=2.5 in /usr/local/lib/python3.10/dist-packages (from requests<3,>=2.21.0->tensorboard<2.13,>=2.12->tensorflow) (3.4)\n",
            "Requirement already satisfied: MarkupSafe>=2.1.1 in /usr/local/lib/python3.10/dist-packages (from werkzeug>=1.0.1->tensorboard<2.13,>=2.12->tensorflow) (2.1.2)\n",
            "Requirement already satisfied: pyasn1<0.6.0,>=0.4.6 in /usr/local/lib/python3.10/dist-packages (from pyasn1-modules>=0.2.1->google-auth<3,>=1.6.3->tensorboard<2.13,>=2.12->tensorflow) (0.5.0)\n",
            "Requirement already satisfied: oauthlib>=3.0.0 in /usr/local/lib/python3.10/dist-packages (from requests-oauthlib>=0.7.0->google-auth-oauthlib<1.1,>=0.5->tensorboard<2.13,>=2.12->tensorflow) (3.2.2)\n"
          ]
        }
      ],
      "source": [
        "!pip install tensorflow"
      ]
    },
    {
      "cell_type": "code",
      "source": [
        "from google.colab import drive\n",
        "drive.mount('/content/drive')"
      ],
      "metadata": {
        "colab": {
          "base_uri": "https://localhost:8080/"
        },
        "id": "9WdcmcqRqN0y",
        "outputId": "3978d03e-b8c1-42fb-d83b-ab28bdc1658d"
      },
      "execution_count": null,
      "outputs": [
        {
          "output_type": "stream",
          "name": "stdout",
          "text": [
            "Mounted at /content/drive\n"
          ]
        }
      ]
    },
    {
      "cell_type": "code",
      "source": [
        "!mkdir test_data\n",
        "#test data 폴더 생성"
      ],
      "metadata": {
        "id": "tHd9mQDKqXr3"
      },
      "execution_count": null,
      "outputs": []
    },
    {
      "cell_type": "code",
      "source": [
        "import os"
      ],
      "metadata": {
        "id": "0Y9_wXS1qYX0"
      },
      "execution_count": null,
      "outputs": []
    },
    {
      "cell_type": "code",
      "source": [
        "one_path = '/content/drive/MyDrive/폭력 이미지 소스/폭력'\n",
        "two_path = '/content/drive/MyDrive/폭력 이미지 소스/비폭력'\n",
        "\n",
        "print(len(os.listdir(one_path)))\n",
        "print(len(os.listdir(two_path)))"
      ],
      "metadata": {
        "colab": {
          "base_uri": "https://localhost:8080/"
        },
        "id": "hGohLcUGqZpI",
        "outputId": "118e7239-b7d6-470c-a76d-907926634fe3"
      },
      "execution_count": null,
      "outputs": [
        {
          "output_type": "stream",
          "name": "stdout",
          "text": [
            "500\n",
            "500\n"
          ]
        }
      ]
    },
    {
      "cell_type": "code",
      "source": [
        "#for file_path in os.listdir(two_path)[:11]: #비폭력 11개 제거\n",
        " # os.remove(os.path.join(two_path, file_path)) #500개 맞추기 위해서 비폭력 데이터 일부 제거\n"
      ],
      "metadata": {
        "id": "EEZukeCbqqW2"
      },
      "execution_count": null,
      "outputs": []
    },
    {
      "cell_type": "code",
      "source": [
        "#print(len(os.listdir(two_path)))"
      ],
      "metadata": {
        "colab": {
          "base_uri": "https://localhost:8080/"
        },
        "id": "5YWrRJduq3GI",
        "outputId": "78fdd170-1633-4cef-f682-46490918f598"
      },
      "execution_count": null,
      "outputs": [
        {
          "output_type": "stream",
          "name": "stdout",
          "text": [
            "500\n"
          ]
        }
      ]
    },
    {
      "cell_type": "code",
      "source": [
        "!pip install split-folders"
      ],
      "metadata": {
        "colab": {
          "base_uri": "https://localhost:8080/"
        },
        "id": "iUfwVp_Gq8ig",
        "outputId": "cfac0101-c4e0-44b8-c5c6-c5c69b0fc7ec"
      },
      "execution_count": null,
      "outputs": [
        {
          "output_type": "stream",
          "name": "stdout",
          "text": [
            "Looking in indexes: https://pypi.org/simple, https://us-python.pkg.dev/colab-wheels/public/simple/\n",
            "Collecting split-folders\n",
            "  Downloading split_folders-0.5.1-py3-none-any.whl (8.4 kB)\n",
            "Installing collected packages: split-folders\n",
            "Successfully installed split-folders-0.5.1\n"
          ]
        }
      ]
    },
    {
      "cell_type": "code",
      "source": [
        "import splitfolders\n",
        "\n",
        "splitfolders.ratio('/content/drive/MyDrive/폭력 이미지 소스', output='test_data', seed=43, ratio=(.7, .3)) #7:3비율로 train 데이터와 test 데이터로 분리"
      ],
      "metadata": {
        "colab": {
          "base_uri": "https://localhost:8080/"
        },
        "id": "2Pi1cwPrq_IX",
        "outputId": "781c75ca-a59d-4d83-c28f-4d8b8da8159b"
      },
      "execution_count": null,
      "outputs": [
        {
          "output_type": "stream",
          "name": "stderr",
          "text": [
            "Copying files: 1000 files [00:18, 53.84 files/s]\n"
          ]
        }
      ]
    },
    {
      "cell_type": "code",
      "source": [
        "print(len(os.listdir('/content/test_data/train/비폭력')))\n",
        "print(len(os.listdir('/content/test_data/train/폭력')))\n",
        "\n",
        "print(len(os.listdir('/content/test_data/val/비폭력')))\n",
        "print(len(os.listdir('/content/test_data/val/폭력')))"
      ],
      "metadata": {
        "colab": {
          "base_uri": "https://localhost:8080/"
        },
        "id": "-EDzEsr_rLhh",
        "outputId": "ee36e5b5-eab7-4e55-f32d-922ee7fe438d"
      },
      "execution_count": null,
      "outputs": [
        {
          "output_type": "stream",
          "name": "stdout",
          "text": [
            "350\n",
            "350\n",
            "150\n",
            "150\n"
          ]
        }
      ]
    },
    {
      "cell_type": "code",
      "source": [
        "import pandas as pd \n",
        "import numpy as np\n",
        "import tensorflow as tf\n",
        "from keras.preprocessing.image import * \n",
        "from keras.utils import to_categorical\n",
        "from sklearn.model_selection import train_test_split\n",
        "import matplotlib.pyplot as plt\n",
        "import random\n",
        "import os "
      ],
      "metadata": {
        "id": "h6mNe1ECrezC"
      },
      "execution_count": null,
      "outputs": []
    },
    {
      "cell_type": "code",
      "source": [
        "from keras.applications.vgg16 import VGG16\n",
        "from keras.preprocessing.image import ImageDataGenerator\n",
        "from keras.layers import Conv2D, MaxPooling2D, Flatten, Dense, Dropout, Input\n",
        "from keras.models import Model\n",
        "from tensorflow.keras import optimizers, regularizers, callbacks"
      ],
      "metadata": {
        "id": "wpg5xpV9rf2j"
      },
      "execution_count": null,
      "outputs": []
    },
    {
      "cell_type": "code",
      "source": [
        "input_tensor = Input(shape=(180,180,3)) #58 나온 원래 코드 150, 150, 3 #224가 디폴트값임.\n",
        "model = VGG16(weights='imagenet', include_top=False, input_tensor = input_tensor)"
      ],
      "metadata": {
        "id": "6AgQm1E5rjBh",
        "colab": {
          "base_uri": "https://localhost:8080/"
        },
        "outputId": "628e3e81-d5d4-40e6-a75f-1d990098f8db"
      },
      "execution_count": null,
      "outputs": [
        {
          "output_type": "stream",
          "name": "stdout",
          "text": [
            "Downloading data from https://storage.googleapis.com/tensorflow/keras-applications/vgg16/vgg16_weights_tf_dim_ordering_tf_kernels_notop.h5\n",
            "58889256/58889256 [==============================] - 2s 0us/step\n"
          ]
        }
      ]
    },
    {
      "cell_type": "code",
      "source": [
        "# 모델 Layer 데이터화\n",
        "layer_dict = dict([(layer.name, layer) for layer in model.layers])\n",
        "\n",
        "# Layer 추가\n",
        "x = layer_dict['block5_pool'].output\n",
        "# Cov2D Layer +\n",
        "x = Conv2D(filters = 64, kernel_size=(3, 3), activation='relu', padding='SAME')(x)\n",
        "# MaxPooling2D Layer +\n",
        "x = MaxPooling2D(pool_size=(2, 2), padding='SAME')(x)\n",
        "# Flatten Layer +\n",
        "x = Flatten()(x)\n",
        "# FC Layer +\n",
        "x = Dense(2048, activation='relu')(x)\n",
        "x = Dropout(0.4)(x)\n",
        "x = Dense(1024, activation='relu')(x)\n",
        "x = Dropout(0.4)(x)\n",
        "x = Dense(2, activation='sigmoid')(x)\n",
        "\n",
        "# new model 정의\n",
        "new_model = Model(inputs = model.input, outputs = x)"
      ],
      "metadata": {
        "id": "7WZtP0ZqrleC"
      },
      "execution_count": null,
      "outputs": []
    },
    {
      "cell_type": "code",
      "source": [
        "# CNN Pre-trained 가중치를 그대로 사용할때\n",
        "for layer in new_model.layers[:19] :\n",
        "    layer.trainable = False\n",
        "\n",
        "new_model.summary()\n",
        "\n",
        "# 컴파일 옵션\n",
        "new_model.compile(loss='sparse_categorical_crossentropy',\n",
        "                     optimizer= tf.keras.optimizers.Adam(learning_rate=0.001),\n",
        "                     metrics=['accuracy'])"
      ],
      "metadata": {
        "colab": {
          "base_uri": "https://localhost:8080/"
        },
        "id": "SZmz4EyqrnMm",
        "outputId": "0cdd2936-6ec9-47ca-f7d5-fa86c3bee6d4"
      },
      "execution_count": null,
      "outputs": [
        {
          "output_type": "stream",
          "name": "stdout",
          "text": [
            "Model: \"model\"\n",
            "_________________________________________________________________\n",
            " Layer (type)                Output Shape              Param #   \n",
            "=================================================================\n",
            " input_1 (InputLayer)        [(None, 180, 180, 3)]     0         \n",
            "                                                                 \n",
            " block1_conv1 (Conv2D)       (None, 180, 180, 64)      1792      \n",
            "                                                                 \n",
            " block1_conv2 (Conv2D)       (None, 180, 180, 64)      36928     \n",
            "                                                                 \n",
            " block1_pool (MaxPooling2D)  (None, 90, 90, 64)        0         \n",
            "                                                                 \n",
            " block2_conv1 (Conv2D)       (None, 90, 90, 128)       73856     \n",
            "                                                                 \n",
            " block2_conv2 (Conv2D)       (None, 90, 90, 128)       147584    \n",
            "                                                                 \n",
            " block2_pool (MaxPooling2D)  (None, 45, 45, 128)       0         \n",
            "                                                                 \n",
            " block3_conv1 (Conv2D)       (None, 45, 45, 256)       295168    \n",
            "                                                                 \n",
            " block3_conv2 (Conv2D)       (None, 45, 45, 256)       590080    \n",
            "                                                                 \n",
            " block3_conv3 (Conv2D)       (None, 45, 45, 256)       590080    \n",
            "                                                                 \n",
            " block3_pool (MaxPooling2D)  (None, 22, 22, 256)       0         \n",
            "                                                                 \n",
            " block4_conv1 (Conv2D)       (None, 22, 22, 512)       1180160   \n",
            "                                                                 \n",
            " block4_conv2 (Conv2D)       (None, 22, 22, 512)       2359808   \n",
            "                                                                 \n",
            " block4_conv3 (Conv2D)       (None, 22, 22, 512)       2359808   \n",
            "                                                                 \n",
            " block4_pool (MaxPooling2D)  (None, 11, 11, 512)       0         \n",
            "                                                                 \n",
            " block5_conv1 (Conv2D)       (None, 11, 11, 512)       2359808   \n",
            "                                                                 \n",
            " block5_conv2 (Conv2D)       (None, 11, 11, 512)       2359808   \n",
            "                                                                 \n",
            " block5_conv3 (Conv2D)       (None, 11, 11, 512)       2359808   \n",
            "                                                                 \n",
            " block5_pool (MaxPooling2D)  (None, 5, 5, 512)         0         \n",
            "                                                                 \n",
            " conv2d (Conv2D)             (None, 5, 5, 64)          294976    \n",
            "                                                                 \n",
            " max_pooling2d (MaxPooling2D  (None, 3, 3, 64)         0         \n",
            " )                                                               \n",
            "                                                                 \n",
            " flatten (Flatten)           (None, 576)               0         \n",
            "                                                                 \n",
            " dense (Dense)               (None, 2048)              1181696   \n",
            "                                                                 \n",
            " dropout (Dropout)           (None, 2048)              0         \n",
            "                                                                 \n",
            " dense_1 (Dense)             (None, 1024)              2098176   \n",
            "                                                                 \n",
            " dropout_1 (Dropout)         (None, 1024)              0         \n",
            "                                                                 \n",
            " dense_2 (Dense)             (None, 2)                 2050      \n",
            "                                                                 \n",
            "=================================================================\n",
            "Total params: 18,291,586\n",
            "Trainable params: 3,576,898\n",
            "Non-trainable params: 14,714,688\n",
            "_________________________________________________________________\n"
          ]
        }
      ]
    },
    {
      "cell_type": "code",
      "source": [
        "# 테스트 데이터 (폭력/비폭력)\n",
        "train_dir ='/content/test_data/train'\n",
        "test_dir = '/content/test_data/val'\n",
        "\n",
        "# 폴더에 따라 자동 분류\n",
        "train_image_generator = ImageDataGenerator(rescale=1./255,\n",
        "                                           rotation_range=15,\n",
        "                                           zoom_range=0.2,\n",
        "                                           horizontal_flip=True,\n",
        "                                           )\n",
        "#데이터 증강,변형\n",
        "test_image_generator = ImageDataGenerator(rescale=1./255)\n",
        "\n",
        "# 데이터 구조 생성\n",
        "train_data_gen = train_image_generator.flow_from_directory(batch_size=100,\n",
        "                                                           directory=train_dir,\n",
        "                                                           shuffle=True,\n",
        "                                                           target_size=(180, 180),\n",
        "                                                           class_mode='binary')\n",
        "\n",
        "test_data_gen = test_image_generator.flow_from_directory(batch_size=100,\n",
        "                                                         directory=test_dir,\n",
        "                                                         target_size=(180, 180),\n",
        "                                                         class_mode='binary')"
      ],
      "metadata": {
        "colab": {
          "base_uri": "https://localhost:8080/"
        },
        "id": "5otylCJErp8K",
        "outputId": "3f9e2088-3083-4438-aa93-4dd58e9d34ed"
      },
      "execution_count": null,
      "outputs": [
        {
          "output_type": "stream",
          "name": "stdout",
          "text": [
            "Found 700 images belonging to 2 classes.\n",
            "Found 300 images belonging to 2 classes.\n"
          ]
        }
      ]
    },
    {
      "cell_type": "code",
      "source": [
        "history = new_model.fit(train_data_gen, epochs=50,\n",
        "                        validation_data=test_data_gen)"
      ],
      "metadata": {
        "colab": {
          "base_uri": "https://localhost:8080/"
        },
        "id": "Wc-nXsDVry8I",
        "outputId": "71b9dcd4-f4d5-4758-efe9-6d0176a620af"
      },
      "execution_count": null,
      "outputs": [
        {
          "output_type": "stream",
          "name": "stdout",
          "text": [
            "Epoch 1/50\n",
            "7/7 [==============================] - 48s 4s/step - loss: 1.1420 - accuracy: 0.5300 - val_loss: 0.6976 - val_accuracy: 0.5000\n",
            "Epoch 2/50\n",
            "7/7 [==============================] - 30s 4s/step - loss: 0.6929 - accuracy: 0.4971 - val_loss: 0.6883 - val_accuracy: 0.5000\n",
            "Epoch 3/50\n",
            "7/7 [==============================] - 29s 4s/step - loss: 0.6789 - accuracy: 0.5000 - val_loss: 0.6589 - val_accuracy: 0.5767\n",
            "Epoch 4/50\n",
            "7/7 [==============================] - 30s 5s/step - loss: 0.6438 - accuracy: 0.6114 - val_loss: 0.6116 - val_accuracy: 0.6900\n",
            "Epoch 5/50\n",
            "7/7 [==============================] - 29s 5s/step - loss: 0.5948 - accuracy: 0.6943 - val_loss: 0.5944 - val_accuracy: 0.7467\n",
            "Epoch 6/50\n",
            "7/7 [==============================] - 33s 5s/step - loss: 0.5627 - accuracy: 0.7657 - val_loss: 0.5814 - val_accuracy: 0.7267\n",
            "Epoch 7/50\n",
            "7/7 [==============================] - 33s 5s/step - loss: 0.4916 - accuracy: 0.7857 - val_loss: 0.5046 - val_accuracy: 0.7933\n",
            "Epoch 8/50\n",
            "7/7 [==============================] - 29s 4s/step - loss: 0.4363 - accuracy: 0.8071 - val_loss: 0.5519 - val_accuracy: 0.7633\n",
            "Epoch 9/50\n",
            "7/7 [==============================] - 29s 4s/step - loss: 0.4654 - accuracy: 0.7929 - val_loss: 0.5112 - val_accuracy: 0.7633\n",
            "Epoch 10/50\n",
            "7/7 [==============================] - 29s 5s/step - loss: 0.4589 - accuracy: 0.7900 - val_loss: 0.5347 - val_accuracy: 0.7067\n",
            "Epoch 11/50\n",
            "7/7 [==============================] - 29s 4s/step - loss: 0.4082 - accuracy: 0.8171 - val_loss: 0.4743 - val_accuracy: 0.7933\n",
            "Epoch 12/50\n",
            "7/7 [==============================] - 29s 4s/step - loss: 0.3673 - accuracy: 0.8471 - val_loss: 0.4666 - val_accuracy: 0.7900\n",
            "Epoch 13/50\n",
            "7/7 [==============================] - 33s 4s/step - loss: 0.3552 - accuracy: 0.8400 - val_loss: 0.4566 - val_accuracy: 0.7933\n",
            "Epoch 14/50\n",
            "7/7 [==============================] - 29s 4s/step - loss: 0.3439 - accuracy: 0.8457 - val_loss: 0.4580 - val_accuracy: 0.7867\n",
            "Epoch 15/50\n",
            "7/7 [==============================] - 29s 4s/step - loss: 0.3444 - accuracy: 0.8557 - val_loss: 0.5653 - val_accuracy: 0.7667\n",
            "Epoch 16/50\n",
            "7/7 [==============================] - 29s 4s/step - loss: 0.3227 - accuracy: 0.8657 - val_loss: 0.4512 - val_accuracy: 0.8033\n",
            "Epoch 17/50\n",
            "7/7 [==============================] - 29s 4s/step - loss: 0.2904 - accuracy: 0.8786 - val_loss: 0.4445 - val_accuracy: 0.8067\n",
            "Epoch 18/50\n",
            "7/7 [==============================] - 29s 4s/step - loss: 0.2608 - accuracy: 0.9014 - val_loss: 0.4576 - val_accuracy: 0.8100\n",
            "Epoch 19/50\n",
            "7/7 [==============================] - 29s 4s/step - loss: 0.2526 - accuracy: 0.8971 - val_loss: 0.4479 - val_accuracy: 0.8133\n",
            "Epoch 20/50\n",
            "7/7 [==============================] - 31s 5s/step - loss: 0.2539 - accuracy: 0.9057 - val_loss: 0.4622 - val_accuracy: 0.8100\n",
            "Epoch 21/50\n",
            "7/7 [==============================] - 30s 5s/step - loss: 0.2527 - accuracy: 0.8957 - val_loss: 0.4706 - val_accuracy: 0.7967\n",
            "Epoch 22/50\n",
            "7/7 [==============================] - 28s 4s/step - loss: 0.2591 - accuracy: 0.8986 - val_loss: 0.4797 - val_accuracy: 0.8133\n",
            "Epoch 23/50\n",
            "7/7 [==============================] - 29s 4s/step - loss: 0.2601 - accuracy: 0.8871 - val_loss: 0.5197 - val_accuracy: 0.8067\n",
            "Epoch 24/50\n",
            "7/7 [==============================] - 29s 4s/step - loss: 0.1981 - accuracy: 0.9257 - val_loss: 0.5761 - val_accuracy: 0.8200\n",
            "Epoch 25/50\n",
            "7/7 [==============================] - 29s 4s/step - loss: 0.2241 - accuracy: 0.9186 - val_loss: 0.5203 - val_accuracy: 0.8067\n",
            "Epoch 26/50\n",
            "7/7 [==============================] - 33s 5s/step - loss: 0.1717 - accuracy: 0.9429 - val_loss: 0.5831 - val_accuracy: 0.7967\n",
            "Epoch 27/50\n",
            "7/7 [==============================] - 30s 4s/step - loss: 0.2044 - accuracy: 0.9314 - val_loss: 0.5064 - val_accuracy: 0.8100\n",
            "Epoch 28/50\n",
            "7/7 [==============================] - 29s 4s/step - loss: 0.1872 - accuracy: 0.9386 - val_loss: 0.5418 - val_accuracy: 0.7967\n",
            "Epoch 29/50\n",
            "7/7 [==============================] - 30s 4s/step - loss: 0.1726 - accuracy: 0.9343 - val_loss: 0.5340 - val_accuracy: 0.7967\n",
            "Epoch 30/50\n",
            "7/7 [==============================] - 30s 4s/step - loss: 0.1728 - accuracy: 0.9329 - val_loss: 0.5176 - val_accuracy: 0.8000\n",
            "Epoch 31/50\n",
            "7/7 [==============================] - 31s 5s/step - loss: 0.1583 - accuracy: 0.9414 - val_loss: 0.5710 - val_accuracy: 0.7933\n",
            "Epoch 32/50\n",
            "7/7 [==============================] - 30s 5s/step - loss: 0.1577 - accuracy: 0.9471 - val_loss: 0.6342 - val_accuracy: 0.8000\n",
            "Epoch 33/50\n",
            "7/7 [==============================] - 33s 5s/step - loss: 0.1332 - accuracy: 0.9500 - val_loss: 0.6517 - val_accuracy: 0.7900\n",
            "Epoch 34/50\n",
            "7/7 [==============================] - 32s 5s/step - loss: 0.1481 - accuracy: 0.9486 - val_loss: 0.6297 - val_accuracy: 0.7700\n",
            "Epoch 35/50\n",
            "7/7 [==============================] - 29s 4s/step - loss: 0.1358 - accuracy: 0.9600 - val_loss: 0.6539 - val_accuracy: 0.7700\n",
            "Epoch 36/50\n",
            "7/7 [==============================] - 29s 4s/step - loss: 0.1751 - accuracy: 0.9286 - val_loss: 0.6583 - val_accuracy: 0.7933\n",
            "Epoch 37/50\n",
            "7/7 [==============================] - 29s 5s/step - loss: 0.1353 - accuracy: 0.9500 - val_loss: 0.6304 - val_accuracy: 0.7933\n",
            "Epoch 38/50\n",
            "7/7 [==============================] - 33s 5s/step - loss: 0.1337 - accuracy: 0.9571 - val_loss: 0.6116 - val_accuracy: 0.8000\n",
            "Epoch 39/50\n",
            "7/7 [==============================] - 33s 5s/step - loss: 0.1331 - accuracy: 0.9429 - val_loss: 0.5960 - val_accuracy: 0.7967\n",
            "Epoch 40/50\n",
            "7/7 [==============================] - 29s 4s/step - loss: 0.1481 - accuracy: 0.9414 - val_loss: 0.6774 - val_accuracy: 0.7800\n",
            "Epoch 41/50\n",
            "7/7 [==============================] - 29s 4s/step - loss: 0.0962 - accuracy: 0.9743 - val_loss: 0.6130 - val_accuracy: 0.8000\n",
            "Epoch 42/50\n",
            "7/7 [==============================] - 29s 4s/step - loss: 0.1417 - accuracy: 0.9414 - val_loss: 0.5920 - val_accuracy: 0.8033\n",
            "Epoch 43/50\n",
            "7/7 [==============================] - 30s 4s/step - loss: 0.1041 - accuracy: 0.9643 - val_loss: 0.6535 - val_accuracy: 0.8067\n",
            "Epoch 44/50\n",
            "7/7 [==============================] - 33s 5s/step - loss: 0.1053 - accuracy: 0.9643 - val_loss: 0.6662 - val_accuracy: 0.7933\n",
            "Epoch 45/50\n",
            "7/7 [==============================] - 29s 4s/step - loss: 0.1041 - accuracy: 0.9629 - val_loss: 0.7188 - val_accuracy: 0.7967\n",
            "Epoch 46/50\n",
            "7/7 [==============================] - 29s 4s/step - loss: 0.1047 - accuracy: 0.9586 - val_loss: 0.7827 - val_accuracy: 0.7833\n",
            "Epoch 47/50\n",
            "7/7 [==============================] - 29s 4s/step - loss: 0.1155 - accuracy: 0.9600 - val_loss: 0.8350 - val_accuracy: 0.7667\n",
            "Epoch 48/50\n",
            "7/7 [==============================] - 29s 4s/step - loss: 0.1622 - accuracy: 0.9329 - val_loss: 0.8108 - val_accuracy: 0.7867\n",
            "Epoch 49/50\n",
            "7/7 [==============================] - 29s 4s/step - loss: 0.1490 - accuracy: 0.9486 - val_loss: 0.6936 - val_accuracy: 0.7867\n",
            "Epoch 50/50\n",
            "7/7 [==============================] - 29s 4s/step - loss: 0.1370 - accuracy: 0.9514 - val_loss: 0.6073 - val_accuracy: 0.8000\n"
          ]
        }
      ]
    },
    {
      "cell_type": "code",
      "source": [
        "new_model.save(\"newVGG16(폭력비폭력).h5\")"
      ],
      "metadata": {
        "id": "G3s4Uhh1XTDl"
      },
      "execution_count": null,
      "outputs": []
    },
    {
      "cell_type": "code",
      "source": [
        "# 최종 결과 리포트\n",
        "acc = history.history['accuracy']\n",
        "val_acc = history.history['val_accuracy']\n",
        "loss = history.history['loss']\n",
        "val_loss = history.history['val_loss']\n",
        "epochs = range(len(acc))"
      ],
      "metadata": {
        "id": "4VZsXZaBszgw"
      },
      "execution_count": null,
      "outputs": []
    },
    {
      "cell_type": "code",
      "source": [
        "from matplotlib import pyplot as plt\n",
        "\n",
        "plt.plot(epochs, acc, 'r', label='Training acc')\n",
        "plt.plot(epochs, val_acc, 'b', label='testing acc')\n",
        "plt.title('Training and testing accuracy')\n",
        "plt.legend()\n",
        "plt.figure()\n",
        "\n",
        "plt.plot(epochs, loss, 'r', label='Training loss')\n",
        "plt.plot(epochs, val_loss, 'b', label='testing loss')\n",
        "plt.title('Training and testing loss')\n",
        "plt.legend()\n",
        "\n",
        "plt.show()"
      ],
      "metadata": {
        "colab": {
          "base_uri": "https://localhost:8080/",
          "height": 887
        },
        "id": "cVCTZfLes0c1",
        "outputId": "27d509f1-39a1-479e-b455-561315d27bcf"
      },
      "execution_count": null,
      "outputs": [
        {
          "output_type": "display_data",
          "data": {
            "text/plain": [
              "<Figure size 640x480 with 1 Axes>"
            ],
            "image/png": "[encoded data removed]"
          },
          "metadata": {}
        },
        {
          "output_type": "display_data",
          "data": {
            "text/plain": [
              "<Figure size 640x480 with 1 Axes>"
            ],
            "image/png": "[encoded data removed]"
          },
          "metadata": {}
        }
      ]
    }
  ]
}