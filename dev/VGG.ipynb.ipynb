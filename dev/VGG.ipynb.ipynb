{
  "nbformat": 4,
  "nbformat_minor": 0,
  "metadata": {
    "colab": {
      "provenance": [],
      "gpuType": "T4"
    },
    "kernelspec": {
      "name": "python3",
      "display_name": "Python 3"
    },
    "language_info": {
      "name": "python"
    },
    "accelerator": "GPU"
  },
  "cells": [
    {
      "cell_type": "code",
      "execution_count": 1,
      "metadata": {
        "colab": {
          "base_uri": "https://localhost:8080/"
        },
        "id": "ThU9sYxCL-3D",
        "outputId": "791d7953-381b-4598-977f-b52c3e49d09c"
      },
      "outputs": [
        {
          "output_type": "stream",
          "name": "stdout",
          "text": [
            "Looking in indexes: https://pypi.org/simple, https://us-python.pkg.dev/colab-wheels/public/simple/\n",
            "Requirement already satisfied: tensorflow in /usr/local/lib/python3.10/dist-packages (2.12.0)\n",
            "Requirement already satisfied: absl-py>=1.0.0 in /usr/local/lib/python3.10/dist-packages (from tensorflow) (1.4.0)\n",
            "Requirement already satisfied: astunparse>=1.6.0 in /usr/local/lib/python3.10/dist-packages (from tensorflow) (1.6.3)\n",
            "Requirement already satisfied: flatbuffers>=2.0 in /usr/local/lib/python3.10/dist-packages (from tensorflow) (23.3.3)\n",
            "Requirement already satisfied: gast<=0.4.0,>=0.2.1 in /usr/local/lib/python3.10/dist-packages (from tensorflow) (0.4.0)\n",
            "Requirement already satisfied: google-pasta>=0.1.1 in /usr/local/lib/python3.10/dist-packages (from tensorflow) (0.2.0)\n",
            "Requirement already satisfied: grpcio<2.0,>=1.24.3 in /usr/local/lib/python3.10/dist-packages (from tensorflow) (1.54.0)\n",
            "Requirement already satisfied: h5py>=2.9.0 in /usr/local/lib/python3.10/dist-packages (from tensorflow) (3.8.0)\n",
            "Requirement already satisfied: jax>=0.3.15 in /usr/local/lib/python3.10/dist-packages (from tensorflow) (0.4.10)\n",
            "Requirement already satisfied: keras<2.13,>=2.12.0 in /usr/local/lib/python3.10/dist-packages (from tensorflow) (2.12.0)\n",
            "Requirement already satisfied: libclang>=13.0.0 in /usr/local/lib/python3.10/dist-packages (from tensorflow) (16.0.0)\n",
            "Requirement already satisfied: numpy<1.24,>=1.22 in /usr/local/lib/python3.10/dist-packages (from tensorflow) (1.22.4)\n",
            "Requirement already satisfied: opt-einsum>=2.3.2 in /usr/local/lib/python3.10/dist-packages (from tensorflow) (3.3.0)\n",
            "Requirement already satisfied: packaging in /usr/local/lib/python3.10/dist-packages (from tensorflow) (23.1)\n",
            "Requirement already satisfied: protobuf!=4.21.0,!=4.21.1,!=4.21.2,!=4.21.3,!=4.21.4,!=4.21.5,<5.0.0dev,>=3.20.3 in /usr/local/lib/python3.10/dist-packages (from tensorflow) (3.20.3)\n",
            "Requirement already satisfied: setuptools in /usr/local/lib/python3.10/dist-packages (from tensorflow) (67.7.2)\n",
            "Requirement already satisfied: six>=1.12.0 in /usr/local/lib/python3.10/dist-packages (from tensorflow) (1.16.0)\n",
            "Requirement already satisfied: tensorboard<2.13,>=2.12 in /usr/local/lib/python3.10/dist-packages (from tensorflow) (2.12.2)\n",
            "Requirement already satisfied: tensorflow-estimator<2.13,>=2.12.0 in /usr/local/lib/python3.10/dist-packages (from tensorflow) (2.12.0)\n",
            "Requirement already satisfied: termcolor>=1.1.0 in /usr/local/lib/python3.10/dist-packages (from tensorflow) (2.3.0)\n",
            "Requirement already satisfied: typing-extensions>=3.6.6 in /usr/local/lib/python3.10/dist-packages (from tensorflow) (4.5.0)\n",
            "Requirement already satisfied: wrapt<1.15,>=1.11.0 in /usr/local/lib/python3.10/dist-packages (from tensorflow) (1.14.1)\n",
            "Requirement already satisfied: tensorflow-io-gcs-filesystem>=0.23.1 in /usr/local/lib/python3.10/dist-packages (from tensorflow) (0.32.0)\n",
            "Requirement already satisfied: wheel<1.0,>=0.23.0 in /usr/local/lib/python3.10/dist-packages (from astunparse>=1.6.0->tensorflow) (0.40.0)\n",
            "Requirement already satisfied: ml-dtypes>=0.1.0 in /usr/local/lib/python3.10/dist-packages (from jax>=0.3.15->tensorflow) (0.1.0)\n",
            "Requirement already satisfied: scipy>=1.7 in /usr/local/lib/python3.10/dist-packages (from jax>=0.3.15->tensorflow) (1.10.1)\n",
            "Requirement already satisfied: google-auth<3,>=1.6.3 in /usr/local/lib/python3.10/dist-packages (from tensorboard<2.13,>=2.12->tensorflow) (2.17.3)\n",
            "Requirement already satisfied: google-auth-oauthlib<1.1,>=0.5 in /usr/local/lib/python3.10/dist-packages (from tensorboard<2.13,>=2.12->tensorflow) (1.0.0)\n",
            "Requirement already satisfied: markdown>=2.6.8 in /usr/local/lib/python3.10/dist-packages (from tensorboard<2.13,>=2.12->tensorflow) (3.4.3)\n",
            "Requirement already satisfied: requests<3,>=2.21.0 in /usr/local/lib/python3.10/dist-packages (from tensorboard<2.13,>=2.12->tensorflow) (2.27.1)\n",
            "Requirement already satisfied: tensorboard-data-server<0.8.0,>=0.7.0 in /usr/local/lib/python3.10/dist-packages (from tensorboard<2.13,>=2.12->tensorflow) (0.7.0)\n",
            "Requirement already satisfied: tensorboard-plugin-wit>=1.6.0 in /usr/local/lib/python3.10/dist-packages (from tensorboard<2.13,>=2.12->tensorflow) (1.8.1)\n",
            "Requirement already satisfied: werkzeug>=1.0.1 in /usr/local/lib/python3.10/dist-packages (from tensorboard<2.13,>=2.12->tensorflow) (2.3.0)\n",
            "Requirement already satisfied: cachetools<6.0,>=2.0.0 in /usr/local/lib/python3.10/dist-packages (from google-auth<3,>=1.6.3->tensorboard<2.13,>=2.12->tensorflow) (5.3.0)\n",
            "Requirement already satisfied: pyasn1-modules>=0.2.1 in /usr/local/lib/python3.10/dist-packages (from google-auth<3,>=1.6.3->tensorboard<2.13,>=2.12->tensorflow) (0.3.0)\n",
            "Requirement already satisfied: rsa<5,>=3.1.4 in /usr/local/lib/python3.10/dist-packages (from google-auth<3,>=1.6.3->tensorboard<2.13,>=2.12->tensorflow) (4.9)\n",
            "Requirement already satisfied: requests-oauthlib>=0.7.0 in /usr/local/lib/python3.10/dist-packages (from google-auth-oauthlib<1.1,>=0.5->tensorboard<2.13,>=2.12->tensorflow) (1.3.1)\n",
            "Requirement already satisfied: urllib3<1.27,>=1.21.1 in /usr/local/lib/python3.10/dist-packages (from requests<3,>=2.21.0->tensorboard<2.13,>=2.12->tensorflow) (1.26.15)\n",
            "Requirement already satisfied: certifi>=2017.4.17 in /usr/local/lib/python3.10/dist-packages (from requests<3,>=2.21.0->tensorboard<2.13,>=2.12->tensorflow) (2022.12.7)\n",
            "Requirement already satisfied: charset-normalizer~=2.0.0 in /usr/local/lib/python3.10/dist-packages (from requests<3,>=2.21.0->tensorboard<2.13,>=2.12->tensorflow) (2.0.12)\n",
            "Requirement already satisfied: idna<4,>=2.5 in /usr/local/lib/python3.10/dist-packages (from requests<3,>=2.21.0->tensorboard<2.13,>=2.12->tensorflow) (3.4)\n",
            "Requirement already satisfied: MarkupSafe>=2.1.1 in /usr/local/lib/python3.10/dist-packages (from werkzeug>=1.0.1->tensorboard<2.13,>=2.12->tensorflow) (2.1.2)\n",
            "Requirement already satisfied: pyasn1<0.6.0,>=0.4.6 in /usr/local/lib/python3.10/dist-packages (from pyasn1-modules>=0.2.1->google-auth<3,>=1.6.3->tensorboard<2.13,>=2.12->tensorflow) (0.5.0)\n",
            "Requirement already satisfied: oauthlib>=3.0.0 in /usr/local/lib/python3.10/dist-packages (from requests-oauthlib>=0.7.0->google-auth-oauthlib<1.1,>=0.5->tensorboard<2.13,>=2.12->tensorflow) (3.2.2)\n"
          ]
        }
      ],
      "source": [
        "!pip install tensorflow"
      ]
    },
    {
      "cell_type": "code",
      "source": [
        "from google.colab import drive\n",
        "drive.mount('/content/drive')"
      ],
      "metadata": {
        "colab": {
          "base_uri": "https://localhost:8080/"
        },
        "id": "BSvfMjZaYs-8",
        "outputId": "3a9bb00a-cd49-4830-951d-6094576f40cd"
      },
      "execution_count": 2,
      "outputs": [
        {
          "output_type": "stream",
          "name": "stdout",
          "text": [
            "Mounted at /content/drive\n"
          ]
        }
      ]
    },
    {
      "cell_type": "code",
      "source": [],
      "metadata": {
        "id": "TfBz5mdVCMRE"
      },
      "execution_count": null,
      "outputs": []
    },
    {
      "cell_type": "code",
      "source": [
        "!mkdir test_data"
      ],
      "metadata": {
        "id": "8xQXN9wNpjAd"
      },
      "execution_count": 3,
      "outputs": []
    },
    {
      "cell_type": "code",
      "source": [
        "import os"
      ],
      "metadata": {
        "id": "I64V40msqUX_"
      },
      "execution_count": 4,
      "outputs": []
    },
    {
      "cell_type": "code",
      "source": [
        "one_path = '/content/drive/MyDrive/노출비노출/노출이미지'\n",
        "two_path = '/content/drive/MyDrive/노출비노출/비노출이미지'\n",
        "\n",
        "print(len(os.listdir(one_path)))\n",
        "print(len(os.listdir(two_path)))"
      ],
      "metadata": {
        "colab": {
          "base_uri": "https://localhost:8080/"
        },
        "id": "Ex0Qf0WDpqoh",
        "outputId": "8eb2f1e5-1450-4798-f5a8-7c2f149348e1"
      },
      "execution_count": 5,
      "outputs": [
        {
          "output_type": "stream",
          "name": "stdout",
          "text": [
            "500\n",
            "500\n"
          ]
        }
      ]
    },
    {
      "cell_type": "code",
      "source": [
        "#for file_path in os.listdir(one_path)[:30]: #노출\n",
        " # os.remove(os.path.join(one_path, file_path))\n",
        "#for files_path in os.listdir(two_path)[:152]: #비노출\n",
        " # os.remove(os.path.join(two_path, files_path))\n"
      ],
      "metadata": {
        "id": "9NHkhOlFqXxG"
      },
      "execution_count": null,
      "outputs": []
    },
    {
      "cell_type": "code",
      "source": [
        "\n",
        "#print(len(os.listdir(one_path)))\n",
        "#print(len(os.listdir(two_path)))"
      ],
      "metadata": {
        "colab": {
          "base_uri": "https://localhost:8080/"
        },
        "id": "miQ9sGzjqtNL",
        "outputId": "065849ff-f790-403a-f174-c24dde86f250"
      },
      "execution_count": null,
      "outputs": [
        {
          "output_type": "stream",
          "name": "stdout",
          "text": [
            "500\n",
            "500\n"
          ]
        }
      ]
    },
    {
      "cell_type": "code",
      "source": [
        "!pip install split-folders"
      ],
      "metadata": {
        "colab": {
          "base_uri": "https://localhost:8080/"
        },
        "id": "gmF-Z9z8zkF9",
        "outputId": "d180d9e9-c957-47f4-f1c7-bdf68748ff6d"
      },
      "execution_count": 6,
      "outputs": [
        {
          "output_type": "stream",
          "name": "stdout",
          "text": [
            "Looking in indexes: https://pypi.org/simple, https://us-python.pkg.dev/colab-wheels/public/simple/\n",
            "Collecting split-folders\n",
            "  Downloading split_folders-0.5.1-py3-none-any.whl (8.4 kB)\n",
            "Installing collected packages: split-folders\n",
            "Successfully installed split-folders-0.5.1\n"
          ]
        }
      ]
    },
    {
      "cell_type": "code",
      "source": [
        "import splitfolders\n",
        "\n",
        "splitfolders.ratio('/content/drive/MyDrive/노출비노출', output='test_data', seed=43, ratio=(.8, .2))"
      ],
      "metadata": {
        "colab": {
          "base_uri": "https://localhost:8080/"
        },
        "id": "CDXxtRjiq18H",
        "outputId": "9770ddea-eadb-4b84-f7cb-3d569725b856"
      },
      "execution_count": 7,
      "outputs": [
        {
          "output_type": "stream",
          "name": "stderr",
          "text": [
            "Copying files: 1000 files [00:25, 38.53 files/s]\n"
          ]
        }
      ]
    },
    {
      "cell_type": "code",
      "source": [
        "print(len(os.listdir('/content/test_data/train/노출이미지')))\n",
        "print(len(os.listdir('/content/test_data/train/비노출이미지')))\n",
        "\n",
        "print(len(os.listdir('/content/test_data/val/노출이미지')))\n",
        "print(len(os.listdir('/content/test_data/val/비노출이미지')))"
      ],
      "metadata": {
        "colab": {
          "base_uri": "https://localhost:8080/"
        },
        "id": "PpQ01cLGrQCy",
        "outputId": "673f080b-8ea0-4a53-8bd1-4cd356773313"
      },
      "execution_count": 8,
      "outputs": [
        {
          "output_type": "stream",
          "name": "stdout",
          "text": [
            "400\n",
            "400\n",
            "100\n",
            "100\n"
          ]
        }
      ]
    },
    {
      "cell_type": "code",
      "source": [
        "import pandas as pd \n",
        "import numpy as np\n",
        "import tensorflow as tf\n",
        "from keras.preprocessing.image import * \n",
        "from keras.utils import to_categorical\n",
        "from sklearn.model_selection import train_test_split\n",
        "import matplotlib.pyplot as plt\n",
        "import random\n",
        "import os "
      ],
      "metadata": {
        "id": "u8mrM3OiMEBO"
      },
      "execution_count": 9,
      "outputs": []
    },
    {
      "cell_type": "code",
      "source": [
        "from keras.applications.vgg16 import VGG16\n",
        "from keras.preprocessing.image import ImageDataGenerator\n",
        "from keras.layers import Conv2D, MaxPooling2D, Flatten, Dense, Dropout, Input\n",
        "from keras.models import Model\n",
        "from tensorflow.keras import optimizers, regularizers"
      ],
      "metadata": {
        "id": "mV6oTH1uSii1"
      },
      "execution_count": 42,
      "outputs": []
    },
    {
      "cell_type": "code",
      "source": [
        "input_tensor = Input(shape=(150,150,3)) #58 나온 원래 코드 150, 150, 3 #224가 디폴트값임.\n",
        "model = VGG16(weights='imagenet', include_top=False, input_tensor = input_tensor)"
      ],
      "metadata": {
        "id": "ylAInv1JaAWe"
      },
      "execution_count": 224,
      "outputs": []
    },
    {
      "cell_type": "code",
      "source": [
        "# 모델 Layer 데이터화\n",
        "layer_dict = dict([(layer.name, layer) for layer in model.layers])\n",
        "\n",
        "# Layer 추가\n",
        "x = layer_dict['block5_pool'].output\n",
        "# Cov2D Layer +\n",
        "x = Conv2D(filters = 64, kernel_size=(3, 3), activation='relu')(x)\n",
        "# MaxPooling2D Layer +\n",
        "x = MaxPooling2D(pool_size=(2, 2))(x)\n",
        "# Flatten Layer +\n",
        "x = Flatten()(x)\n",
        "# FC Layer +\n",
        "x = Dense(2048, activation='relu')(x)\n",
        "x = Dropout(0.5)(x)\n",
        "x = Dense(1024, activation='relu')(x)\n",
        "x = Dropout(0.5)(x)\n",
        "x = Dense(2, activation='sigmoid')(x)\n",
        "\n",
        "# new model 정의\n",
        "new_model = Model(inputs = model.input, outputs = x)"
      ],
      "metadata": {
        "id": "Mng5JyIKaOn0"
      },
      "execution_count": 225,
      "outputs": []
    },
    {
      "cell_type": "code",
      "source": [
        "# CNN Pre-trained 가중치를 그대로 사용할때\n",
        "for layer in new_model.layers[:19] :\n",
        "    layer.trainable = False\n",
        "\n",
        "new_model.summary()\n",
        "\n",
        "# 컴파일 옵션\n",
        "new_model.compile(loss='sparse_categorical_crossentropy',\n",
        "                     optimizer= tf.keras.optimizers.Adam(),\n",
        "                     metrics=['accuracy'])"
      ],
      "metadata": {
        "colab": {
          "base_uri": "https://localhost:8080/"
        },
        "id": "MOGHVI2GaT6U",
        "outputId": "aca1049c-6070-4a9e-942f-6f3968bbc343"
      },
      "execution_count": 226,
      "outputs": [
        {
          "output_type": "stream",
          "name": "stdout",
          "text": [
            "Model: \"model_38\"\n",
            "_________________________________________________________________\n",
            " Layer (type)                Output Shape              Param #   \n",
            "=================================================================\n",
            " input_38 (InputLayer)       [(None, 150, 150, 3)]     0         \n",
            "                                                                 \n",
            " block1_conv1 (Conv2D)       (None, 150, 150, 64)      1792      \n",
            "                                                                 \n",
            " block1_conv2 (Conv2D)       (None, 150, 150, 64)      36928     \n",
            "                                                                 \n",
            " block1_pool (MaxPooling2D)  (None, 75, 75, 64)        0         \n",
            "                                                                 \n",
            " block2_conv1 (Conv2D)       (None, 75, 75, 128)       73856     \n",
            "                                                                 \n",
            " block2_conv2 (Conv2D)       (None, 75, 75, 128)       147584    \n",
            "                                                                 \n",
            " block2_pool (MaxPooling2D)  (None, 37, 37, 128)       0         \n",
            "                                                                 \n",
            " block3_conv1 (Conv2D)       (None, 37, 37, 256)       295168    \n",
            "                                                                 \n",
            " block3_conv2 (Conv2D)       (None, 37, 37, 256)       590080    \n",
            "                                                                 \n",
            " block3_conv3 (Conv2D)       (None, 37, 37, 256)       590080    \n",
            "                                                                 \n",
            " block3_pool (MaxPooling2D)  (None, 18, 18, 256)       0         \n",
            "                                                                 \n",
            " block4_conv1 (Conv2D)       (None, 18, 18, 512)       1180160   \n",
            "                                                                 \n",
            " block4_conv2 (Conv2D)       (None, 18, 18, 512)       2359808   \n",
            "                                                                 \n",
            " block4_conv3 (Conv2D)       (None, 18, 18, 512)       2359808   \n",
            "                                                                 \n",
            " block4_pool (MaxPooling2D)  (None, 9, 9, 512)         0         \n",
            "                                                                 \n",
            " block5_conv1 (Conv2D)       (None, 9, 9, 512)         2359808   \n",
            "                                                                 \n",
            " block5_conv2 (Conv2D)       (None, 9, 9, 512)         2359808   \n",
            "                                                                 \n",
            " block5_conv3 (Conv2D)       (None, 9, 9, 512)         2359808   \n",
            "                                                                 \n",
            " block5_pool (MaxPooling2D)  (None, 4, 4, 512)         0         \n",
            "                                                                 \n",
            " conv2d_49 (Conv2D)          (None, 2, 2, 64)          294976    \n",
            "                                                                 \n",
            " max_pooling2d_42 (MaxPoolin  (None, 1, 1, 64)         0         \n",
            " g2D)                                                            \n",
            "                                                                 \n",
            " flatten_38 (Flatten)        (None, 64)                0         \n",
            "                                                                 \n",
            " dense_114 (Dense)           (None, 2048)              133120    \n",
            "                                                                 \n",
            " dropout_85 (Dropout)        (None, 2048)              0         \n",
            "                                                                 \n",
            " dense_115 (Dense)           (None, 1024)              2098176   \n",
            "                                                                 \n",
            " dropout_86 (Dropout)        (None, 1024)              0         \n",
            "                                                                 \n",
            " dense_116 (Dense)           (None, 2)                 2050      \n",
            "                                                                 \n",
            "=================================================================\n",
            "Total params: 17,243,010\n",
            "Trainable params: 2,528,322\n",
            "Non-trainable params: 14,714,688\n",
            "_________________________________________________________________\n"
          ]
        }
      ]
    },
    {
      "cell_type": "code",
      "source": [
        "# 테스트 데이터 (고양이/강아지)\n",
        "train_dir ='/content/test_data/train'\n",
        "test_dir = '/content/test_data/val'\n",
        "\n",
        "# 폴더에 따라 자동 분류\n",
        "train_image_generator = ImageDataGenerator(rescale=1./255)\n",
        "test_image_generator = ImageDataGenerator(rescale=1./255)\n",
        "\n",
        "# 데이터 구조 생성\n",
        "train_data_gen = train_image_generator.flow_from_directory(batch_size=16,\n",
        "                                                           directory=train_dir,\n",
        "                                                           shuffle=True,\n",
        "                                                           target_size=(150, 150),\n",
        "                                                           class_mode='binary')\n",
        "\n",
        "test_data_gen = test_image_generator.flow_from_directory(batch_size=16,\n",
        "                                                         directory=test_dir,\n",
        "                                                         target_size=(150, 150),\n",
        "                                                         class_mode='binary')"
      ],
      "metadata": {
        "colab": {
          "base_uri": "https://localhost:8080/"
        },
        "id": "gIV4ug5dsSTn",
        "outputId": "23d27034-b0c3-42fa-8259-f3aa0d20ffbd"
      },
      "execution_count": 227,
      "outputs": [
        {
          "output_type": "stream",
          "name": "stdout",
          "text": [
            "Found 800 images belonging to 2 classes.\n",
            "Found 200 images belonging to 2 classes.\n"
          ]
        }
      ]
    },
    {
      "cell_type": "code",
      "source": [
        "from PIL import Image, ImageFile\n",
        "ImageFile.LOAD_TRUNCATED_IMAGES = True"
      ],
      "metadata": {
        "id": "bbVjuMZzclq9"
      },
      "execution_count": 15,
      "outputs": []
    },
    {
      "cell_type": "code",
      "source": [
        "!pip install keras --upgrade"
      ],
      "metadata": {
        "colab": {
          "base_uri": "https://localhost:8080/"
        },
        "id": "GCU5RtuLcrtY",
        "outputId": "15f39924-86af-49e1-b6f1-7928985199ab"
      },
      "execution_count": 16,
      "outputs": [
        {
          "output_type": "stream",
          "name": "stdout",
          "text": [
            "Looking in indexes: https://pypi.org/simple, https://us-python.pkg.dev/colab-wheels/public/simple/\n",
            "Requirement already satisfied: keras in /usr/local/lib/python3.10/dist-packages (2.12.0)\n"
          ]
        }
      ]
    },
    {
      "cell_type": "code",
      "source": [
        "history = new_model.fit(train_data_gen, epochs=30,\n",
        "                        validation_data=test_data_gen)"
      ],
      "metadata": {
        "colab": {
          "base_uri": "https://localhost:8080/"
        },
        "id": "1A7TCH25dcoA",
        "outputId": "1c6c1f19-8053-4dfd-f685-fc9bd1c277c3"
      },
      "execution_count": 228,
      "outputs": [
        {
          "output_type": "stream",
          "name": "stdout",
          "text": [
            "Epoch 1/30\n",
            "50/50 [==============================] - 13s 232ms/step - loss: 0.7296 - accuracy: 0.5000 - val_loss: 0.6932 - val_accuracy: 0.5000\n",
            "Epoch 2/30\n",
            "50/50 [==============================] - 13s 267ms/step - loss: 0.6767 - accuracy: 0.5500 - val_loss: 0.7005 - val_accuracy: 0.6050\n",
            "Epoch 3/30\n",
            "50/50 [==============================] - 11s 217ms/step - loss: 0.6330 - accuracy: 0.6475 - val_loss: 0.7243 - val_accuracy: 0.5550\n",
            "Epoch 4/30\n",
            "50/50 [==============================] - 10s 200ms/step - loss: 0.5772 - accuracy: 0.6988 - val_loss: 0.6880 - val_accuracy: 0.6450\n",
            "Epoch 5/30\n",
            "50/50 [==============================] - 11s 220ms/step - loss: 0.4948 - accuracy: 0.7713 - val_loss: 0.7486 - val_accuracy: 0.6500\n",
            "Epoch 6/30\n",
            "50/50 [==============================] - 14s 278ms/step - loss: 0.4015 - accuracy: 0.8363 - val_loss: 0.8596 - val_accuracy: 0.6500\n",
            "Epoch 7/30\n",
            "50/50 [==============================] - 13s 269ms/step - loss: 0.3706 - accuracy: 0.8462 - val_loss: 0.9555 - val_accuracy: 0.6300\n",
            "Epoch 8/30\n",
            "50/50 [==============================] - 13s 265ms/step - loss: 0.2662 - accuracy: 0.9038 - val_loss: 1.0590 - val_accuracy: 0.6100\n",
            "Epoch 9/30\n",
            "50/50 [==============================] - 13s 266ms/step - loss: 0.2571 - accuracy: 0.9025 - val_loss: 1.0537 - val_accuracy: 0.6250\n",
            "Epoch 10/30\n",
            "50/50 [==============================] - 13s 265ms/step - loss: 0.2050 - accuracy: 0.9337 - val_loss: 1.4940 - val_accuracy: 0.6400\n",
            "Epoch 11/30\n",
            "50/50 [==============================] - 13s 263ms/step - loss: 0.2216 - accuracy: 0.9262 - val_loss: 1.0615 - val_accuracy: 0.6250\n",
            "Epoch 12/30\n",
            "50/50 [==============================] - 13s 264ms/step - loss: 0.2323 - accuracy: 0.9175 - val_loss: 0.9201 - val_accuracy: 0.6300\n",
            "Epoch 13/30\n",
            "50/50 [==============================] - 11s 216ms/step - loss: 0.1734 - accuracy: 0.9525 - val_loss: 1.6221 - val_accuracy: 0.6150\n",
            "Epoch 14/30\n",
            "50/50 [==============================] - 10s 206ms/step - loss: 0.1394 - accuracy: 0.9600 - val_loss: 1.2618 - val_accuracy: 0.6250\n",
            "Epoch 15/30\n",
            "50/50 [==============================] - 12s 237ms/step - loss: 0.1362 - accuracy: 0.9625 - val_loss: 1.7205 - val_accuracy: 0.6200\n",
            "Epoch 16/30\n",
            "50/50 [==============================] - 11s 226ms/step - loss: 0.1228 - accuracy: 0.9688 - val_loss: 1.8633 - val_accuracy: 0.6400\n",
            "Epoch 17/30\n",
            "50/50 [==============================] - 11s 224ms/step - loss: 0.1263 - accuracy: 0.9663 - val_loss: 2.0011 - val_accuracy: 0.6550\n",
            "Epoch 18/30\n",
            "50/50 [==============================] - 13s 263ms/step - loss: 0.1324 - accuracy: 0.9663 - val_loss: 1.4939 - val_accuracy: 0.6750\n",
            "Epoch 19/30\n",
            "50/50 [==============================] - 11s 212ms/step - loss: 0.1213 - accuracy: 0.9663 - val_loss: 1.6577 - val_accuracy: 0.6650\n",
            "Epoch 20/30\n",
            "50/50 [==============================] - 10s 205ms/step - loss: 0.1570 - accuracy: 0.9588 - val_loss: 2.6143 - val_accuracy: 0.6300\n",
            "Epoch 21/30\n",
            "50/50 [==============================] - 12s 248ms/step - loss: 0.1344 - accuracy: 0.9625 - val_loss: 1.9062 - val_accuracy: 0.6550\n",
            "Epoch 22/30\n",
            "50/50 [==============================] - 11s 224ms/step - loss: 0.1209 - accuracy: 0.9688 - val_loss: 1.6876 - val_accuracy: 0.6450\n",
            "Epoch 23/30\n",
            "50/50 [==============================] - 13s 260ms/step - loss: 0.1163 - accuracy: 0.9688 - val_loss: 1.7445 - val_accuracy: 0.6500\n",
            "Epoch 24/30\n",
            "50/50 [==============================] - 11s 213ms/step - loss: 0.1158 - accuracy: 0.9712 - val_loss: 1.9356 - val_accuracy: 0.6550\n",
            "Epoch 25/30\n",
            "50/50 [==============================] - 10s 201ms/step - loss: 0.1176 - accuracy: 0.9712 - val_loss: 1.8776 - val_accuracy: 0.6500\n",
            "Epoch 26/30\n",
            "50/50 [==============================] - 11s 223ms/step - loss: 0.1134 - accuracy: 0.9712 - val_loss: 1.9444 - val_accuracy: 0.6600\n",
            "Epoch 27/30\n",
            "50/50 [==============================] - 11s 225ms/step - loss: 0.1164 - accuracy: 0.9712 - val_loss: 1.9367 - val_accuracy: 0.6450\n",
            "Epoch 28/30\n",
            "50/50 [==============================] - 10s 210ms/step - loss: 0.1156 - accuracy: 0.9712 - val_loss: 1.9830 - val_accuracy: 0.6600\n",
            "Epoch 29/30\n",
            "50/50 [==============================] - 11s 229ms/step - loss: 0.1137 - accuracy: 0.9712 - val_loss: 2.0239 - val_accuracy: 0.6500\n",
            "Epoch 30/30\n",
            "50/50 [==============================] - 11s 227ms/step - loss: 0.1150 - accuracy: 0.9712 - val_loss: 2.0290 - val_accuracy: 0.6650\n"
          ]
        }
      ]
    },
    {
      "cell_type": "code",
      "source": [
        "new_model.save(\"newVGG16(노출비노출).h5\") "
      ],
      "metadata": {
        "id": "WQcGmXBPzBsv"
      },
      "execution_count": 64,
      "outputs": []
    },
    {
      "cell_type": "code",
      "source": [
        "# 최종 결과 리포트\n",
        "acc = history.history['accuracy']\n",
        "val_acc = history.history['val_accuracy']\n",
        "loss = history.history['loss']\n",
        "val_loss = history.history['val_loss']\n",
        "epochs = range(len(acc))\n"
      ],
      "metadata": {
        "id": "juAAr0Z7zLPS"
      },
      "execution_count": 229,
      "outputs": []
    },
    {
      "cell_type": "code",
      "source": [
        "from matplotlib import pyplot as plt\n",
        "\n",
        "plt.plot(epochs, acc, 'r', label='Training acc')\n",
        "plt.plot(epochs, val_acc, 'b', label='testing acc')\n",
        "plt.title('Training and testing accuracy')\n",
        "plt.legend()\n",
        "plt.figure()\n",
        "\n",
        "plt.plot(epochs, loss, 'r', label='Training loss')\n",
        "plt.plot(epochs, val_loss, 'b', label='testing loss')\n",
        "plt.title('Training and testing loss')\n",
        "plt.legend()\n",
        "\n",
        "plt.show()"
      ],
      "metadata": {
        "colab": {
          "base_uri": "https://localhost:8080/",
          "height": 887
        },
        "id": "lSK2VJeszNhP",
        "outputId": "2f57fb2c-2936-49d1-95cf-54a96b36b4a8"
      },
      "execution_count": 230,
      "outputs": [
        {
          "output_type": "display_data",
          "data": {
            "text/plain": [
              "<Figure size 640x480 with 1 Axes>"
            ],
            "image/png": "[encoded data removed]"
          },
          "metadata": {}
        },
        {
          "output_type": "display_data",
          "data": {
            "text/plain": [
              "<Figure size 640x480 with 1 Axes>"
            ],
            "image/png": "[encoded data removed]"
          },
          "metadata": {}
        }
      ]
    }
  ]
}