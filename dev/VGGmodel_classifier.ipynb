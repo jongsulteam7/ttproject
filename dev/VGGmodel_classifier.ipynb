{
  "nbformat": 4,
  "nbformat_minor": 0,
  "metadata": {
    "colab": {
      "provenance": [],
      "gpuType": "T4"
    },
    "kernelspec": {
      "name": "python3",
      "display_name": "Python 3"
    },
    "language_info": {
      "name": "python"
    },
    "accelerator": "GPU"
  },
  "cells": [
    {
      "cell_type": "code",
      "execution_count": 1,
      "metadata": {
        "id": "0m5nA1oeblsu"
      },
      "outputs": [],
      "source": [
        "import matplotlib.pyplot as plt\n",
        "import tensorflow as tf\n",
        "import os\n",
        "import cv2\n",
        "import numpy as np\n",
        "from keras.models import load_model\n",
        "from tensorflow.keras.preprocessing.image import load_img\n",
        "import glob\n",
        "import pandas as pd \n",
        "from natsort import natsorted"
      ]
    },
    {
      "cell_type": "code",
      "source": [
        "image_size = (180, 180)\n",
        "channels = 3\n",
        "#본 모델에서 180, 180 3채널로 고정시켰기 때문에 고정변수입니다 이미지사이즈"
      ],
      "metadata": {
        "id": "hcW5e8hNcXIa"
      },
      "execution_count": 2,
      "outputs": []
    },
    {
      "cell_type": "code",
      "source": [
        "from PIL import Image, ImageFile\n",
        "ImageFile.LOAD_TRUNCATED_IMAGES = True"
      ],
      "metadata": {
        "id": "lVp7ft7icuzR"
      },
      "execution_count": 3,
      "outputs": []
    },
    {
      "cell_type": "code",
      "source": [
        "exposure_model = load_model('/content/drive/MyDrive/ttproject/model/newVGG16(노출비노출).h5')\n",
        "violence_model = load_model('/content/drive/MyDrive/ttproject/model/newVGG16(폭력비폭력).h5')\n",
        "relationship_model = load_model('/content/drive/MyDrive/ttproject/model/newVGG16(관계비관계).h5')"
      ],
      "metadata": {
        "id": "S70-jQLzewFq"
      },
      "execution_count": 4,
      "outputs": []
    },
    {
      "cell_type": "code",
      "source": [
        "naked_classes = ['Naked', 'Non-Naked'] \n",
        "violence_classes = ['Non-Violence', 'Violence'] \n",
        "sexual_classes = ['Sexual', 'Non-Sexual'] "
      ],
      "metadata": {
        "id": "bVnfPltBd9_q"
      },
      "execution_count": 5,
      "outputs": []
    },
    {
      "cell_type": "code",
      "source": [
        "def preprocess_image(image):\n",
        "  image = cv2.resize(image, image_size)\n",
        "  image = image.astype('float32') / 255.0\n",
        "  return image"
      ],
      "metadata": {
        "id": "fplgN-99lvMO"
      },
      "execution_count": 8,
      "outputs": []
    },
    {
      "cell_type": "code",
      "source": [
        "def classify_image(image):\n",
        "    preprocessed_image = preprocess_image(image)\n",
        "    naked_prediction = exposure_model.predict(np.expand_dims(preprocessed_image, axis=0))[0]\n",
        "    violence_prediction = violence_model.predict(np.expand_dims(preprocessed_image, axis=0))[0]\n",
        "    sexual_prediction = relationship_model.predict(np.expand_dims(preprocessed_image, axis=0))[0]\n",
        "\n",
        "    # 확률이 0.6 이상일 경우 해당 클래스를 반환, 그렇지 않으면 'Uncertain' 반환\n",
        "    naked_class = naked_classes[np.argmax(naked_prediction)] if np.max(naked_prediction) > 0.6 else 'Uncertain'\n",
        "    violence_class = violence_classes[np.argmax(violence_prediction)] if np.max(violence_prediction) > 0.6 else 'Uncertain'\n",
        "    sexual_class = sexual_classes[np.argmax(sexual_prediction)] if np.max(sexual_prediction) > 0.6 else 'Uncertain'\n",
        "\n",
        "    return naked_class, violence_class, sexual_class"
      ],
      "metadata": {
        "id": "wtFp5oHucwwv"
      },
      "execution_count": 9,
      "outputs": []
    },
    {
      "cell_type": "code",
      "source": [
        "path=\"/content/drive/MyDrive/ttproject/tiktok_video/건전영상/건전영상044\"\n",
        "filenames = natsorted(os.listdir(path))\n",
        "\n",
        "test_df = pd.DataFrame({\"filename\":filenames})\n",
        "test_df[\"path\"] = test_df[\"filename\"].apply(lambda x: os.path.join(path, x))\n",
        "test_df[[\"노출\", \"폭력\", \"관계\"]] = test_df[\"path\"].apply(lambda x: pd.Series(classify_image(cv2.imread(x))))\n",
        "test_df = test_df.drop(columns=['path'])\n",
        "\n",
        "test_df"
      ],
      "metadata": {
        "colab": {
          "base_uri": "https://localhost:8080/",
          "height": 966
        },
        "id": "eoOKbyMeeFnW",
        "outputId": "c0bcdcd5-0a94-4e0d-96ba-f21d73f1dd96"
      },
      "execution_count": 15,
      "outputs": [
        {
          "output_type": "stream",
          "name": "stdout",
          "text": [
            "1/1 [==============================] - 0s 19ms/step\n",
            "1/1 [==============================] - 0s 20ms/step\n",
            "1/1 [==============================] - 0s 19ms/step\n",
            "1/1 [==============================] - 0s 20ms/step\n",
            "1/1 [==============================] - 0s 20ms/step\n",
            "1/1 [==============================] - 0s 20ms/step\n",
            "1/1 [==============================] - 0s 25ms/step\n",
            "1/1 [==============================] - 0s 20ms/step\n",
            "1/1 [==============================] - 0s 21ms/step\n",
            "1/1 [==============================] - 0s 21ms/step\n",
            "1/1 [==============================] - 0s 30ms/step\n",
            "1/1 [==============================] - 0s 22ms/step\n",
            "1/1 [==============================] - 0s 20ms/step\n",
            "1/1 [==============================] - 0s 21ms/step\n",
            "1/1 [==============================] - 0s 19ms/step\n",
            "1/1 [==============================] - 0s 21ms/step\n",
            "1/1 [==============================] - 0s 18ms/step\n",
            "1/1 [==============================] - 0s 20ms/step\n",
            "1/1 [==============================] - 0s 19ms/step\n",
            "1/1 [==============================] - 0s 21ms/step\n",
            "1/1 [==============================] - 0s 19ms/step\n",
            "1/1 [==============================] - 0s 19ms/step\n",
            "1/1 [==============================] - 0s 21ms/step\n",
            "1/1 [==============================] - 0s 19ms/step\n",
            "1/1 [==============================] - 0s 22ms/step\n",
            "1/1 [==============================] - 0s 19ms/step\n",
            "1/1 [==============================] - 0s 20ms/step\n",
            "1/1 [==============================] - 0s 19ms/step\n",
            "1/1 [==============================] - 0s 22ms/step\n",
            "1/1 [==============================] - 0s 22ms/step\n",
            "1/1 [==============================] - 0s 22ms/step\n",
            "1/1 [==============================] - 0s 20ms/step\n",
            "1/1 [==============================] - 0s 21ms/step\n"
          ]
        },
        {
          "output_type": "execute_result",
          "data": {
            "text/plain": [
              "        filename         노출            폭력          관계\n",
              "0    frame_0.jpg  Non-Naked  Non-Violence  Non-Sexual\n",
              "1    frame_1.jpg  Non-Naked  Non-Violence  Non-Sexual\n",
              "2    frame_2.jpg  Non-Naked  Non-Violence  Non-Sexual\n",
              "3    frame_3.jpg  Non-Naked  Non-Violence      Sexual\n",
              "4    frame_4.jpg  Uncertain  Non-Violence      Sexual\n",
              "5    frame_5.jpg  Non-Naked  Non-Violence  Non-Sexual\n",
              "6    frame_6.jpg  Uncertain  Non-Violence  Non-Sexual\n",
              "7    frame_7.jpg  Non-Naked  Non-Violence  Non-Sexual\n",
              "8    frame_8.jpg  Non-Naked  Non-Violence  Non-Sexual\n",
              "9    frame_9.jpg  Non-Naked  Non-Violence      Sexual\n",
              "10  frame_10.jpg  Non-Naked  Non-Violence  Non-Sexual"
            ],
            "text/html": [
              "\n",
              "  <div id=\"df-13eaf08a-1642-4283-9023-b830533b10a8\">\n",
              "    <div class=\"colab-df-container\">\n",
              "      <div>\n",
              "<style scoped>\n",
              "    .dataframe tbody tr th:only-of-type {\n",
              "        vertical-align: middle;\n",
              "    }\n",
              "\n",
              "    .dataframe tbody tr th {\n",
              "        vertical-align: top;\n",
              "    }\n",
              "\n",
              "    .dataframe thead th {\n",
              "        text-align: right;\n",
              "    }\n",
              "</style>\n",
              "<table border=\"1\" class=\"dataframe\">\n",
              "  <thead>\n",
              "    <tr style=\"text-align: right;\">\n",
              "      <th></th>\n",
              "      <th>filename</th>\n",
              "      <th>노출</th>\n",
              "      <th>폭력</th>\n",
              "      <th>관계</th>\n",
              "    </tr>\n",
              "  </thead>\n",
              "  <tbody>\n",
              "    <tr>\n",
              "      <th>0</th>\n",
              "      <td>frame_0.jpg</td>\n",
              "      <td>Non-Naked</td>\n",
              "      <td>Non-Violence</td>\n",
              "      <td>Non-Sexual</td>\n",
              "    </tr>\n",
              "    <tr>\n",
              "      <th>1</th>\n",
              "      <td>frame_1.jpg</td>\n",
              "      <td>Non-Naked</td>\n",
              "      <td>Non-Violence</td>\n",
              "      <td>Non-Sexual</td>\n",
              "    </tr>\n",
              "    <tr>\n",
              "      <th>2</th>\n",
              "      <td>frame_2.jpg</td>\n",
              "      <td>Non-Naked</td>\n",
              "      <td>Non-Violence</td>\n",
              "      <td>Non-Sexual</td>\n",
              "    </tr>\n",
              "    <tr>\n",
              "      <th>3</th>\n",
              "      <td>frame_3.jpg</td>\n",
              "      <td>Non-Naked</td>\n",
              "      <td>Non-Violence</td>\n",
              "      <td>Sexual</td>\n",
              "    </tr>\n",
              "    <tr>\n",
              "      <th>4</th>\n",
              "      <td>frame_4.jpg</td>\n",
              "      <td>Uncertain</td>\n",
              "      <td>Non-Violence</td>\n",
              "      <td>Sexual</td>\n",
              "    </tr>\n",
              "    <tr>\n",
              "      <th>5</th>\n",
              "      <td>frame_5.jpg</td>\n",
              "      <td>Non-Naked</td>\n",
              "      <td>Non-Violence</td>\n",
              "      <td>Non-Sexual</td>\n",
              "    </tr>\n",
              "    <tr>\n",
              "      <th>6</th>\n",
              "      <td>frame_6.jpg</td>\n",
              "      <td>Uncertain</td>\n",
              "      <td>Non-Violence</td>\n",
              "      <td>Non-Sexual</td>\n",
              "    </tr>\n",
              "    <tr>\n",
              "      <th>7</th>\n",
              "      <td>frame_7.jpg</td>\n",
              "      <td>Non-Naked</td>\n",
              "      <td>Non-Violence</td>\n",
              "      <td>Non-Sexual</td>\n",
              "    </tr>\n",
              "    <tr>\n",
              "      <th>8</th>\n",
              "      <td>frame_8.jpg</td>\n",
              "      <td>Non-Naked</td>\n",
              "      <td>Non-Violence</td>\n",
              "      <td>Non-Sexual</td>\n",
              "    </tr>\n",
              "    <tr>\n",
              "      <th>9</th>\n",
              "      <td>frame_9.jpg</td>\n",
              "      <td>Non-Naked</td>\n",
              "      <td>Non-Violence</td>\n",
              "      <td>Sexual</td>\n",
              "    </tr>\n",
              "    <tr>\n",
              "      <th>10</th>\n",
              "      <td>frame_10.jpg</td>\n",
              "      <td>Non-Naked</td>\n",
              "      <td>Non-Violence</td>\n",
              "      <td>Non-Sexual</td>\n",
              "    </tr>\n",
              "  </tbody>\n",
              "</table>\n",
              "</div>\n",
              "      <button class=\"colab-df-convert\" onclick=\"convertToInteractive('df-13eaf08a-1642-4283-9023-b830533b10a8')\"\n",
              "              title=\"Convert this dataframe to an interactive table.\"\n",
              "              style=\"display:none;\">\n",
              "        \n",
              "  <svg xmlns=\"http://www.w3.org/2000/svg\" height=\"24px\"viewBox=\"0 0 24 24\"\n",
              "       width=\"24px\">\n",
              "    <path d=\"M0 0h24v24H0V0z\" fill=\"none\"/>\n",
              "    <path d=\"M18.56 5.44l.94 2.06.94-2.06 2.06-.94-2.06-.94-.94-2.06-.94 2.06-2.06.94zm-11 1L8.5 8.5l.94-2.06 2.06-.94-2.06-.94L8.5 2.5l-.94 2.06-2.06.94zm10 10l.94 2.06.94-2.06 2.06-.94-2.06-.94-.94-2.06-.94 2.06-2.06.94z\"/><path d=\"M17.41 7.96l-1.37-1.37c-.4-.4-.92-.59-1.43-.59-.52 0-1.04.2-1.43.59L10.3 9.45l-7.72 7.72c-.78.78-.78 2.05 0 2.83L4 21.41c.39.39.9.59 1.41.59.51 0 1.02-.2 1.41-.59l7.78-7.78 2.81-2.81c.8-.78.8-2.07 0-2.86zM5.41 20L4 18.59l7.72-7.72 1.47 1.35L5.41 20z\"/>\n",
              "  </svg>\n",
              "      </button>\n",
              "      \n",
              "  <style>\n",
              "    .colab-df-container {\n",
              "      display:flex;\n",
              "      flex-wrap:wrap;\n",
              "      gap: 12px;\n",
              "    }\n",
              "\n",
              "    .colab-df-convert {\n",
              "      background-color: #E8F0FE;\n",
              "      border: none;\n",
              "      border-radius: 50%;\n",
              "      cursor: pointer;\n",
              "      display: none;\n",
              "      fill: #1967D2;\n",
              "      height: 32px;\n",
              "      padding: 0 0 0 0;\n",
              "      width: 32px;\n",
              "    }\n",
              "\n",
              "    .colab-df-convert:hover {\n",
              "      background-color: #E2EBFA;\n",
              "      box-shadow: 0px 1px 2px rgba(60, 64, 67, 0.3), 0px 1px 3px 1px rgba(60, 64, 67, 0.15);\n",
              "      fill: #174EA6;\n",
              "    }\n",
              "\n",
              "    [theme=dark] .colab-df-convert {\n",
              "      background-color: #3B4455;\n",
              "      fill: #D2E3FC;\n",
              "    }\n",
              "\n",
              "    [theme=dark] .colab-df-convert:hover {\n",
              "      background-color: #434B5C;\n",
              "      box-shadow: 0px 1px 3px 1px rgba(0, 0, 0, 0.15);\n",
              "      filter: drop-shadow(0px 1px 2px rgba(0, 0, 0, 0.3));\n",
              "      fill: #FFFFFF;\n",
              "    }\n",
              "  </style>\n",
              "\n",
              "      <script>\n",
              "        const buttonEl =\n",
              "          document.querySelector('#df-13eaf08a-1642-4283-9023-b830533b10a8 button.colab-df-convert');\n",
              "        buttonEl.style.display =\n",
              "          google.colab.kernel.accessAllowed ? 'block' : 'none';\n",
              "\n",
              "        async function convertToInteractive(key) {\n",
              "          const element = document.querySelector('#df-13eaf08a-1642-4283-9023-b830533b10a8');\n",
              "          const dataTable =\n",
              "            await google.colab.kernel.invokeFunction('convertToInteractive',\n",
              "                                                     [key], {});\n",
              "          if (!dataTable) return;\n",
              "\n",
              "          const docLinkHtml = 'Like what you see? Visit the ' +\n",
              "            '<a target=\"_blank\" href=https://colab.research.google.com/notebooks/data_table.ipynb>data table notebook</a>'\n",
              "            + ' to learn more about interactive tables.';\n",
              "          element.innerHTML = '';\n",
              "          dataTable['output_type'] = 'display_data';\n",
              "          await google.colab.output.renderOutput(dataTable, element);\n",
              "          const docLink = document.createElement('div');\n",
              "          docLink.innerHTML = docLinkHtml;\n",
              "          element.appendChild(docLink);\n",
              "        }\n",
              "      </script>\n",
              "    </div>\n",
              "  </div>\n",
              "  "
            ]
          },
          "metadata": {},
          "execution_count": 15
        }
      ]
    },
    {
      "cell_type": "code",
      "source": [],
      "metadata": {
        "id": "sVvVfH_TmyBf"
      },
      "execution_count": null,
      "outputs": []
    }
  ]
}